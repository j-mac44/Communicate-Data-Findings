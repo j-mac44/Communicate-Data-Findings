{
 "cells": [
  {
   "cell_type": "markdown",
   "metadata": {},
   "source": [
    "# Udacity Data Analyst Nanodegree Program\n",
    "# Communicate Data Findings Project: An Exploration of Ford GoBike's 2017 Data\n",
    "\n",
    "## By: Jessica Macrillo \n",
    "### August 2019\n",
    "\n",
    "\n",
    "\n",
    "- [Introduction](#intro)\n",
    "- [Gather](#gather)\n",
    "- [Assess](#assess)\n",
    "    - [Quality](#quality)\n",
    "- [Clean](#clean)\n",
    "- [Store Dataframe](#store) \n",
    "- [Analyze](#analyze)\n",
    "    - [Univariate Exploration](#univariate)\n",
    "    - [Bivariate Exploration](#bivariate)\n",
    "    - [Multivariate Exploration](#multivariate)\n",
    "- [References](#references)\n",
    "\n"
   ]
  },
  {
   "cell_type": "markdown",
   "metadata": {},
   "source": [
    "<a id = 'intro'></a>\n",
    "## Introduction\n",
    "The purpose of this project is to conduct an exploratory and explanatory data analysis of Ford's GoBike Data for the year 2017. The data was sourced from Lyft and contains information on individual trips in a bike-sharing system covering the greater San Francisco Bay area. The purpose of this analysis was to see if particular factors influenced bike-share usage. More specifically, determining if age, gender, subscriber status, times of travel, popular stations  and trip duration influence utilization of the bike-share system."
   ]
  },
  {
   "cell_type": "markdown",
   "metadata": {},
   "source": [
    "<a id = 'gather'></a>\n",
    "## Gather\n",
    "\n",
    "In this section, data will be gathered and loaded into the Jupyter notebook. The 'csv' file was downloaded from Lyft's website, uploaded into the Jupyter notebook and pandas was used to read in the 'csv' file. Furthermore, all packages will be imported that are necessary to complete the exploratory and explanatory data analysis."
   ]
  },
  {
   "cell_type": "code",
   "execution_count": 1,
   "metadata": {},
   "outputs": [],
   "source": [
    "#import all packages and set plots to be embedded inline\n",
    "import numpy as np\n",
    "import pandas as pd\n",
    "import matplotlib.pyplot as plt\n",
    "import seaborn as sb\n",
    "\n",
    "%matplotlib inline"
   ]
  },
  {
   "cell_type": "code",
   "execution_count": 2,
   "metadata": {},
   "outputs": [
    {
     "data": {
      "text/html": [
       "<div>\n",
       "<style scoped>\n",
       "    .dataframe tbody tr th:only-of-type {\n",
       "        vertical-align: middle;\n",
       "    }\n",
       "\n",
       "    .dataframe tbody tr th {\n",
       "        vertical-align: top;\n",
       "    }\n",
       "\n",
       "    .dataframe thead th {\n",
       "        text-align: right;\n",
       "    }\n",
       "</style>\n",
       "<table border=\"1\" class=\"dataframe\">\n",
       "  <thead>\n",
       "    <tr style=\"text-align: right;\">\n",
       "      <th></th>\n",
       "      <th>duration_sec</th>\n",
       "      <th>start_time</th>\n",
       "      <th>end_time</th>\n",
       "      <th>start_station_id</th>\n",
       "      <th>start_station_name</th>\n",
       "      <th>start_station_latitude</th>\n",
       "      <th>start_station_longitude</th>\n",
       "      <th>end_station_id</th>\n",
       "      <th>end_station_name</th>\n",
       "      <th>end_station_latitude</th>\n",
       "      <th>end_station_longitude</th>\n",
       "      <th>bike_id</th>\n",
       "      <th>user_type</th>\n",
       "      <th>member_birth_year</th>\n",
       "      <th>member_gender</th>\n",
       "    </tr>\n",
       "  </thead>\n",
       "  <tbody>\n",
       "    <tr>\n",
       "      <th>0</th>\n",
       "      <td>80110</td>\n",
       "      <td>2017-12-31 16:57:39.6540</td>\n",
       "      <td>2018-01-01 15:12:50.2450</td>\n",
       "      <td>74</td>\n",
       "      <td>Laguna St at Hayes St</td>\n",
       "      <td>37.776435</td>\n",
       "      <td>-122.426244</td>\n",
       "      <td>43</td>\n",
       "      <td>San Francisco Public Library (Grove St at Hyde...</td>\n",
       "      <td>37.778768</td>\n",
       "      <td>-122.415929</td>\n",
       "      <td>96</td>\n",
       "      <td>Customer</td>\n",
       "      <td>1987.0</td>\n",
       "      <td>Male</td>\n",
       "    </tr>\n",
       "    <tr>\n",
       "      <th>1</th>\n",
       "      <td>78800</td>\n",
       "      <td>2017-12-31 15:56:34.8420</td>\n",
       "      <td>2018-01-01 13:49:55.6170</td>\n",
       "      <td>284</td>\n",
       "      <td>Yerba Buena Center for the Arts (Howard St at ...</td>\n",
       "      <td>37.784872</td>\n",
       "      <td>-122.400876</td>\n",
       "      <td>96</td>\n",
       "      <td>Dolores St at 15th St</td>\n",
       "      <td>37.766210</td>\n",
       "      <td>-122.426614</td>\n",
       "      <td>88</td>\n",
       "      <td>Customer</td>\n",
       "      <td>1965.0</td>\n",
       "      <td>Female</td>\n",
       "    </tr>\n",
       "    <tr>\n",
       "      <th>2</th>\n",
       "      <td>45768</td>\n",
       "      <td>2017-12-31 22:45:48.4110</td>\n",
       "      <td>2018-01-01 11:28:36.8830</td>\n",
       "      <td>245</td>\n",
       "      <td>Downtown Berkeley BART</td>\n",
       "      <td>37.870348</td>\n",
       "      <td>-122.267764</td>\n",
       "      <td>245</td>\n",
       "      <td>Downtown Berkeley BART</td>\n",
       "      <td>37.870348</td>\n",
       "      <td>-122.267764</td>\n",
       "      <td>1094</td>\n",
       "      <td>Customer</td>\n",
       "      <td>NaN</td>\n",
       "      <td>NaN</td>\n",
       "    </tr>\n",
       "    <tr>\n",
       "      <th>3</th>\n",
       "      <td>62172</td>\n",
       "      <td>2017-12-31 17:31:10.6360</td>\n",
       "      <td>2018-01-01 10:47:23.5310</td>\n",
       "      <td>60</td>\n",
       "      <td>8th St at Ringold St</td>\n",
       "      <td>37.774520</td>\n",
       "      <td>-122.409449</td>\n",
       "      <td>5</td>\n",
       "      <td>Powell St BART Station (Market St at 5th St)</td>\n",
       "      <td>37.783899</td>\n",
       "      <td>-122.408445</td>\n",
       "      <td>2831</td>\n",
       "      <td>Customer</td>\n",
       "      <td>NaN</td>\n",
       "      <td>NaN</td>\n",
       "    </tr>\n",
       "    <tr>\n",
       "      <th>4</th>\n",
       "      <td>43603</td>\n",
       "      <td>2017-12-31 14:23:14.0010</td>\n",
       "      <td>2018-01-01 02:29:57.5710</td>\n",
       "      <td>239</td>\n",
       "      <td>Bancroft Way at Telegraph Ave</td>\n",
       "      <td>37.868813</td>\n",
       "      <td>-122.258764</td>\n",
       "      <td>247</td>\n",
       "      <td>Fulton St at Bancroft Way</td>\n",
       "      <td>37.867789</td>\n",
       "      <td>-122.265896</td>\n",
       "      <td>3167</td>\n",
       "      <td>Subscriber</td>\n",
       "      <td>1997.0</td>\n",
       "      <td>Female</td>\n",
       "    </tr>\n",
       "  </tbody>\n",
       "</table>\n",
       "</div>"
      ],
      "text/plain": [
       "   duration_sec                start_time                  end_time  \\\n",
       "0         80110  2017-12-31 16:57:39.6540  2018-01-01 15:12:50.2450   \n",
       "1         78800  2017-12-31 15:56:34.8420  2018-01-01 13:49:55.6170   \n",
       "2         45768  2017-12-31 22:45:48.4110  2018-01-01 11:28:36.8830   \n",
       "3         62172  2017-12-31 17:31:10.6360  2018-01-01 10:47:23.5310   \n",
       "4         43603  2017-12-31 14:23:14.0010  2018-01-01 02:29:57.5710   \n",
       "\n",
       "   start_station_id                                 start_station_name  \\\n",
       "0                74                              Laguna St at Hayes St   \n",
       "1               284  Yerba Buena Center for the Arts (Howard St at ...   \n",
       "2               245                             Downtown Berkeley BART   \n",
       "3                60                               8th St at Ringold St   \n",
       "4               239                      Bancroft Way at Telegraph Ave   \n",
       "\n",
       "   start_station_latitude  start_station_longitude  end_station_id  \\\n",
       "0               37.776435              -122.426244              43   \n",
       "1               37.784872              -122.400876              96   \n",
       "2               37.870348              -122.267764             245   \n",
       "3               37.774520              -122.409449               5   \n",
       "4               37.868813              -122.258764             247   \n",
       "\n",
       "                                    end_station_name  end_station_latitude  \\\n",
       "0  San Francisco Public Library (Grove St at Hyde...             37.778768   \n",
       "1                              Dolores St at 15th St             37.766210   \n",
       "2                             Downtown Berkeley BART             37.870348   \n",
       "3       Powell St BART Station (Market St at 5th St)             37.783899   \n",
       "4                          Fulton St at Bancroft Way             37.867789   \n",
       "\n",
       "   end_station_longitude  bike_id   user_type  member_birth_year member_gender  \n",
       "0            -122.415929       96    Customer             1987.0          Male  \n",
       "1            -122.426614       88    Customer             1965.0        Female  \n",
       "2            -122.267764     1094    Customer                NaN           NaN  \n",
       "3            -122.408445     2831    Customer                NaN           NaN  \n",
       "4            -122.265896     3167  Subscriber             1997.0        Female  "
      ]
     },
     "execution_count": 2,
     "metadata": {},
     "output_type": "execute_result"
    }
   ],
   "source": [
    "#load downloaded dataset using pandas and look at first 5 rows of data.\n",
    "df = pd.read_csv('2017-fordgobike-tripdata.csv')\n",
    "df.head()"
   ]
  },
  {
   "cell_type": "markdown",
   "metadata": {},
   "source": [
    "<a id = 'assess'></a>\n",
    "## Assess\n",
    "\n",
    "In the Assess section, data will be examined programmatically using various pandas methods, including, .shape, .describe, .info, .isnull, .duplicated, .value_counts, .sample and .hist. After assessments have been made programmatically, data will be evaluated for quality and tidiness."
   ]
  },
  {
   "cell_type": "code",
   "execution_count": 3,
   "metadata": {},
   "outputs": [
    {
     "data": {
      "text/plain": [
       "(519700, 15)"
      ]
     },
     "execution_count": 3,
     "metadata": {},
     "output_type": "execute_result"
    }
   ],
   "source": [
    "#Inspect shape of the dataset.\n",
    "df.shape"
   ]
  },
  {
   "cell_type": "code",
   "execution_count": 4,
   "metadata": {},
   "outputs": [
    {
     "data": {
      "text/html": [
       "<div>\n",
       "<style scoped>\n",
       "    .dataframe tbody tr th:only-of-type {\n",
       "        vertical-align: middle;\n",
       "    }\n",
       "\n",
       "    .dataframe tbody tr th {\n",
       "        vertical-align: top;\n",
       "    }\n",
       "\n",
       "    .dataframe thead th {\n",
       "        text-align: right;\n",
       "    }\n",
       "</style>\n",
       "<table border=\"1\" class=\"dataframe\">\n",
       "  <thead>\n",
       "    <tr style=\"text-align: right;\">\n",
       "      <th></th>\n",
       "      <th>duration_sec</th>\n",
       "      <th>start_station_id</th>\n",
       "      <th>start_station_latitude</th>\n",
       "      <th>start_station_longitude</th>\n",
       "      <th>end_station_id</th>\n",
       "      <th>end_station_latitude</th>\n",
       "      <th>end_station_longitude</th>\n",
       "      <th>bike_id</th>\n",
       "      <th>member_birth_year</th>\n",
       "    </tr>\n",
       "  </thead>\n",
       "  <tbody>\n",
       "    <tr>\n",
       "      <th>count</th>\n",
       "      <td>519700.000000</td>\n",
       "      <td>519700.000000</td>\n",
       "      <td>519700.000000</td>\n",
       "      <td>519700.000000</td>\n",
       "      <td>519700.000000</td>\n",
       "      <td>519700.000000</td>\n",
       "      <td>519700.000000</td>\n",
       "      <td>519700.000000</td>\n",
       "      <td>453159.000000</td>\n",
       "    </tr>\n",
       "    <tr>\n",
       "      <th>mean</th>\n",
       "      <td>1099.009521</td>\n",
       "      <td>95.034245</td>\n",
       "      <td>37.771653</td>\n",
       "      <td>-122.363927</td>\n",
       "      <td>92.184041</td>\n",
       "      <td>37.771844</td>\n",
       "      <td>-122.363236</td>\n",
       "      <td>1672.533079</td>\n",
       "      <td>1980.404787</td>\n",
       "    </tr>\n",
       "    <tr>\n",
       "      <th>std</th>\n",
       "      <td>3444.146451</td>\n",
       "      <td>86.083078</td>\n",
       "      <td>0.086305</td>\n",
       "      <td>0.105573</td>\n",
       "      <td>84.969491</td>\n",
       "      <td>0.086224</td>\n",
       "      <td>0.105122</td>\n",
       "      <td>971.356959</td>\n",
       "      <td>10.513488</td>\n",
       "    </tr>\n",
       "    <tr>\n",
       "      <th>min</th>\n",
       "      <td>61.000000</td>\n",
       "      <td>3.000000</td>\n",
       "      <td>37.317298</td>\n",
       "      <td>-122.444293</td>\n",
       "      <td>3.000000</td>\n",
       "      <td>37.317298</td>\n",
       "      <td>-122.444293</td>\n",
       "      <td>10.000000</td>\n",
       "      <td>1886.000000</td>\n",
       "    </tr>\n",
       "    <tr>\n",
       "      <th>25%</th>\n",
       "      <td>382.000000</td>\n",
       "      <td>24.000000</td>\n",
       "      <td>37.773492</td>\n",
       "      <td>-122.411726</td>\n",
       "      <td>23.000000</td>\n",
       "      <td>37.774520</td>\n",
       "      <td>-122.410345</td>\n",
       "      <td>787.000000</td>\n",
       "      <td>1974.000000</td>\n",
       "    </tr>\n",
       "    <tr>\n",
       "      <th>50%</th>\n",
       "      <td>596.000000</td>\n",
       "      <td>67.000000</td>\n",
       "      <td>37.783521</td>\n",
       "      <td>-122.398870</td>\n",
       "      <td>66.000000</td>\n",
       "      <td>37.783830</td>\n",
       "      <td>-122.398525</td>\n",
       "      <td>1728.500000</td>\n",
       "      <td>1983.000000</td>\n",
       "    </tr>\n",
       "    <tr>\n",
       "      <th>75%</th>\n",
       "      <td>938.000000</td>\n",
       "      <td>139.000000</td>\n",
       "      <td>37.795392</td>\n",
       "      <td>-122.391034</td>\n",
       "      <td>134.000000</td>\n",
       "      <td>37.795392</td>\n",
       "      <td>-122.391034</td>\n",
       "      <td>2520.000000</td>\n",
       "      <td>1988.000000</td>\n",
       "    </tr>\n",
       "    <tr>\n",
       "      <th>max</th>\n",
       "      <td>86369.000000</td>\n",
       "      <td>340.000000</td>\n",
       "      <td>37.880222</td>\n",
       "      <td>-121.874119</td>\n",
       "      <td>340.000000</td>\n",
       "      <td>37.880222</td>\n",
       "      <td>-121.874119</td>\n",
       "      <td>3733.000000</td>\n",
       "      <td>1999.000000</td>\n",
       "    </tr>\n",
       "  </tbody>\n",
       "</table>\n",
       "</div>"
      ],
      "text/plain": [
       "        duration_sec  start_station_id  start_station_latitude  \\\n",
       "count  519700.000000     519700.000000           519700.000000   \n",
       "mean     1099.009521         95.034245               37.771653   \n",
       "std      3444.146451         86.083078                0.086305   \n",
       "min        61.000000          3.000000               37.317298   \n",
       "25%       382.000000         24.000000               37.773492   \n",
       "50%       596.000000         67.000000               37.783521   \n",
       "75%       938.000000        139.000000               37.795392   \n",
       "max     86369.000000        340.000000               37.880222   \n",
       "\n",
       "       start_station_longitude  end_station_id  end_station_latitude  \\\n",
       "count            519700.000000   519700.000000         519700.000000   \n",
       "mean               -122.363927       92.184041             37.771844   \n",
       "std                   0.105573       84.969491              0.086224   \n",
       "min                -122.444293        3.000000             37.317298   \n",
       "25%                -122.411726       23.000000             37.774520   \n",
       "50%                -122.398870       66.000000             37.783830   \n",
       "75%                -122.391034      134.000000             37.795392   \n",
       "max                -121.874119      340.000000             37.880222   \n",
       "\n",
       "       end_station_longitude        bike_id  member_birth_year  \n",
       "count          519700.000000  519700.000000      453159.000000  \n",
       "mean             -122.363236    1672.533079        1980.404787  \n",
       "std                 0.105122     971.356959          10.513488  \n",
       "min              -122.444293      10.000000        1886.000000  \n",
       "25%              -122.410345     787.000000        1974.000000  \n",
       "50%              -122.398525    1728.500000        1983.000000  \n",
       "75%              -122.391034    2520.000000        1988.000000  \n",
       "max              -121.874119    3733.000000        1999.000000  "
      ]
     },
     "execution_count": 4,
     "metadata": {},
     "output_type": "execute_result"
    }
   ],
   "source": [
    "#Descriptive statistics\n",
    "df.describe()"
   ]
  },
  {
   "cell_type": "code",
   "execution_count": 5,
   "metadata": {},
   "outputs": [
    {
     "name": "stdout",
     "output_type": "stream",
     "text": [
      "<class 'pandas.core.frame.DataFrame'>\n",
      "RangeIndex: 519700 entries, 0 to 519699\n",
      "Data columns (total 15 columns):\n",
      "duration_sec               519700 non-null int64\n",
      "start_time                 519700 non-null object\n",
      "end_time                   519700 non-null object\n",
      "start_station_id           519700 non-null int64\n",
      "start_station_name         519700 non-null object\n",
      "start_station_latitude     519700 non-null float64\n",
      "start_station_longitude    519700 non-null float64\n",
      "end_station_id             519700 non-null int64\n",
      "end_station_name           519700 non-null object\n",
      "end_station_latitude       519700 non-null float64\n",
      "end_station_longitude      519700 non-null float64\n",
      "bike_id                    519700 non-null int64\n",
      "user_type                  519700 non-null object\n",
      "member_birth_year          453159 non-null float64\n",
      "member_gender              453238 non-null object\n",
      "dtypes: float64(5), int64(4), object(6)\n",
      "memory usage: 59.5+ MB\n"
     ]
    }
   ],
   "source": [
    "#Run info command to look for missing values and discover data types.\n",
    "df.info()"
   ]
  },
  {
   "cell_type": "code",
   "execution_count": 6,
   "metadata": {},
   "outputs": [
    {
     "data": {
      "text/plain": [
       "duration_sec                   0\n",
       "start_time                     0\n",
       "end_time                       0\n",
       "start_station_id               0\n",
       "start_station_name             0\n",
       "start_station_latitude         0\n",
       "start_station_longitude        0\n",
       "end_station_id                 0\n",
       "end_station_name               0\n",
       "end_station_latitude           0\n",
       "end_station_longitude          0\n",
       "bike_id                        0\n",
       "user_type                      0\n",
       "member_birth_year          66541\n",
       "member_gender              66462\n",
       "dtype: int64"
      ]
     },
     "execution_count": 6,
     "metadata": {},
     "output_type": "execute_result"
    }
   ],
   "source": [
    "#Check dataframe for null values\n",
    "df.isnull().sum()"
   ]
  },
  {
   "cell_type": "code",
   "execution_count": 7,
   "metadata": {},
   "outputs": [
    {
     "data": {
      "text/plain": [
       "0"
      ]
     },
     "execution_count": 7,
     "metadata": {},
     "output_type": "execute_result"
    }
   ],
   "source": [
    "#Check dataframe for duplicated data\n",
    "sum(df.duplicated())"
   ]
  },
  {
   "cell_type": "code",
   "execution_count": 8,
   "metadata": {},
   "outputs": [
    {
     "data": {
      "text/plain": [
       "Subscriber    409230\n",
       "Customer      110470\n",
       "Name: user_type, dtype: int64"
      ]
     },
     "execution_count": 8,
     "metadata": {},
     "output_type": "execute_result"
    }
   ],
   "source": [
    "#Value counts for user_type\n",
    "df.user_type.value_counts()"
   ]
  },
  {
   "cell_type": "code",
   "execution_count": 9,
   "metadata": {},
   "outputs": [
    {
     "data": {
      "text/plain": [
       "Male      348318\n",
       "Female     98621\n",
       "Other       6299\n",
       "Name: member_gender, dtype: int64"
      ]
     },
     "execution_count": 9,
     "metadata": {},
     "output_type": "execute_result"
    }
   ],
   "source": [
    "#Value counts for gender\n",
    "df.member_gender.value_counts()"
   ]
  },
  {
   "cell_type": "code",
   "execution_count": 10,
   "metadata": {},
   "outputs": [
    {
     "data": {
      "text/plain": [
       "1985.0    24342\n",
       "1988.0    23610\n",
       "1987.0    22493\n",
       "1984.0    21061\n",
       "1982.0    21005\n",
       "1986.0    20134\n",
       "1983.0    19270\n",
       "1989.0    19202\n",
       "1990.0    16832\n",
       "1991.0    16009\n",
       "1981.0    15132\n",
       "1980.0    14817\n",
       "1993.0    13394\n",
       "1979.0    12691\n",
       "1992.0    11928\n",
       "1977.0    11798\n",
       "1975.0    11454\n",
       "1978.0    10845\n",
       "1994.0     9932\n",
       "1973.0     9230\n",
       "1974.0     9186\n",
       "1968.0     9038\n",
       "1976.0     8782\n",
       "1965.0     7926\n",
       "1971.0     7892\n",
       "1970.0     7599\n",
       "1967.0     6650\n",
       "1972.0     6645\n",
       "1995.0     6616\n",
       "1969.0     6556\n",
       "          ...  \n",
       "1957.0     1525\n",
       "1955.0     1082\n",
       "1952.0      960\n",
       "1999.0      899\n",
       "1951.0      745\n",
       "1950.0      740\n",
       "1953.0      596\n",
       "1947.0      534\n",
       "1949.0      500\n",
       "1948.0      464\n",
       "1945.0      280\n",
       "1944.0      231\n",
       "1902.0      217\n",
       "1943.0      188\n",
       "1900.0      142\n",
       "1935.0      134\n",
       "1946.0       82\n",
       "1942.0       73\n",
       "1924.0       66\n",
       "1941.0       57\n",
       "1933.0       41\n",
       "1939.0       37\n",
       "1934.0       34\n",
       "1928.0       29\n",
       "1940.0       29\n",
       "1938.0       22\n",
       "1911.0       12\n",
       "1907.0        7\n",
       "1901.0        4\n",
       "1886.0        2\n",
       "Name: member_birth_year, Length: 73, dtype: int64"
      ]
     },
     "execution_count": 10,
     "metadata": {},
     "output_type": "execute_result"
    }
   ],
   "source": [
    "#Value counts for birth_year\n",
    "df.member_birth_year.value_counts()"
   ]
  },
  {
   "cell_type": "code",
   "execution_count": 11,
   "metadata": {},
   "outputs": [
    {
     "data": {
      "text/html": [
       "<div>\n",
       "<style scoped>\n",
       "    .dataframe tbody tr th:only-of-type {\n",
       "        vertical-align: middle;\n",
       "    }\n",
       "\n",
       "    .dataframe tbody tr th {\n",
       "        vertical-align: top;\n",
       "    }\n",
       "\n",
       "    .dataframe thead th {\n",
       "        text-align: right;\n",
       "    }\n",
       "</style>\n",
       "<table border=\"1\" class=\"dataframe\">\n",
       "  <thead>\n",
       "    <tr style=\"text-align: right;\">\n",
       "      <th></th>\n",
       "      <th>duration_sec</th>\n",
       "      <th>start_time</th>\n",
       "      <th>end_time</th>\n",
       "      <th>start_station_id</th>\n",
       "      <th>start_station_name</th>\n",
       "      <th>start_station_latitude</th>\n",
       "      <th>start_station_longitude</th>\n",
       "      <th>end_station_id</th>\n",
       "      <th>end_station_name</th>\n",
       "      <th>end_station_latitude</th>\n",
       "      <th>end_station_longitude</th>\n",
       "      <th>bike_id</th>\n",
       "      <th>user_type</th>\n",
       "      <th>member_birth_year</th>\n",
       "      <th>member_gender</th>\n",
       "    </tr>\n",
       "  </thead>\n",
       "  <tbody>\n",
       "    <tr>\n",
       "      <th>1044</th>\n",
       "      <td>2054</td>\n",
       "      <td>2017-12-31 11:54:04.5350</td>\n",
       "      <td>2017-12-31 12:28:19.3620</td>\n",
       "      <td>98</td>\n",
       "      <td>Valencia St at 16th St</td>\n",
       "      <td>37.765052</td>\n",
       "      <td>-122.421866</td>\n",
       "      <td>324</td>\n",
       "      <td>Union Square (Powell St at Post St)</td>\n",
       "      <td>37.788300</td>\n",
       "      <td>-122.408531</td>\n",
       "      <td>1672</td>\n",
       "      <td>Customer</td>\n",
       "      <td>1992.0</td>\n",
       "      <td>Male</td>\n",
       "    </tr>\n",
       "    <tr>\n",
       "      <th>134220</th>\n",
       "      <td>1666</td>\n",
       "      <td>2017-11-14 15:44:44.0840</td>\n",
       "      <td>2017-11-14 16:12:30.3340</td>\n",
       "      <td>21</td>\n",
       "      <td>Montgomery St BART Station (Market St at 2nd St)</td>\n",
       "      <td>37.789625</td>\n",
       "      <td>-122.400811</td>\n",
       "      <td>20</td>\n",
       "      <td>Mechanics Monument Plaza (Market St at Bush St)</td>\n",
       "      <td>37.791300</td>\n",
       "      <td>-122.399051</td>\n",
       "      <td>2267</td>\n",
       "      <td>Subscriber</td>\n",
       "      <td>NaN</td>\n",
       "      <td>NaN</td>\n",
       "    </tr>\n",
       "    <tr>\n",
       "      <th>259109</th>\n",
       "      <td>865</td>\n",
       "      <td>2017-10-10 08:10:53.8590</td>\n",
       "      <td>2017-10-10 08:25:19.1280</td>\n",
       "      <td>86</td>\n",
       "      <td>Market St at Dolores St</td>\n",
       "      <td>37.769305</td>\n",
       "      <td>-122.426826</td>\n",
       "      <td>37</td>\n",
       "      <td>2nd St at Folsom St</td>\n",
       "      <td>37.785000</td>\n",
       "      <td>-122.395936</td>\n",
       "      <td>3056</td>\n",
       "      <td>Subscriber</td>\n",
       "      <td>1994.0</td>\n",
       "      <td>Male</td>\n",
       "    </tr>\n",
       "    <tr>\n",
       "      <th>471202</th>\n",
       "      <td>511</td>\n",
       "      <td>2017-08-01 17:56:31.1680</td>\n",
       "      <td>2017-08-01 18:05:03.1520</td>\n",
       "      <td>182</td>\n",
       "      <td>19th Street BART Station</td>\n",
       "      <td>37.809013</td>\n",
       "      <td>-122.268247</td>\n",
       "      <td>178</td>\n",
       "      <td>Broadway at 30th St</td>\n",
       "      <td>37.819381</td>\n",
       "      <td>-122.261928</td>\n",
       "      <td>1415</td>\n",
       "      <td>Subscriber</td>\n",
       "      <td>1980.0</td>\n",
       "      <td>Female</td>\n",
       "    </tr>\n",
       "    <tr>\n",
       "      <th>307220</th>\n",
       "      <td>759</td>\n",
       "      <td>2017-09-26 16:13:13.7230</td>\n",
       "      <td>2017-09-26 16:25:52.9390</td>\n",
       "      <td>81</td>\n",
       "      <td>Berry St at 4th St</td>\n",
       "      <td>37.775880</td>\n",
       "      <td>-122.393170</td>\n",
       "      <td>9</td>\n",
       "      <td>Broadway at Battery St</td>\n",
       "      <td>37.798572</td>\n",
       "      <td>-122.400869</td>\n",
       "      <td>2126</td>\n",
       "      <td>Subscriber</td>\n",
       "      <td>1963.0</td>\n",
       "      <td>Male</td>\n",
       "    </tr>\n",
       "    <tr>\n",
       "      <th>446443</th>\n",
       "      <td>922</td>\n",
       "      <td>2017-08-11 18:51:31.0170</td>\n",
       "      <td>2017-08-11 19:06:53.5190</td>\n",
       "      <td>7</td>\n",
       "      <td>Frank H Ogawa Plaza</td>\n",
       "      <td>37.804562</td>\n",
       "      <td>-122.271738</td>\n",
       "      <td>194</td>\n",
       "      <td>Lakeshore Ave at Trestle Glen Rd</td>\n",
       "      <td>37.811081</td>\n",
       "      <td>-122.243268</td>\n",
       "      <td>1433</td>\n",
       "      <td>Customer</td>\n",
       "      <td>1967.0</td>\n",
       "      <td>Male</td>\n",
       "    </tr>\n",
       "    <tr>\n",
       "      <th>89</th>\n",
       "      <td>1309</td>\n",
       "      <td>2017-12-31 22:05:27.3890</td>\n",
       "      <td>2017-12-31 22:27:16.5160</td>\n",
       "      <td>28</td>\n",
       "      <td>The Embarcadero at Bryant St</td>\n",
       "      <td>37.787168</td>\n",
       "      <td>-122.388098</td>\n",
       "      <td>6</td>\n",
       "      <td>The Embarcadero at Sansome St</td>\n",
       "      <td>37.804770</td>\n",
       "      <td>-122.403234</td>\n",
       "      <td>2629</td>\n",
       "      <td>Customer</td>\n",
       "      <td>NaN</td>\n",
       "      <td>NaN</td>\n",
       "    </tr>\n",
       "    <tr>\n",
       "      <th>99245</th>\n",
       "      <td>1464</td>\n",
       "      <td>2017-11-28 05:42:15.0320</td>\n",
       "      <td>2017-11-28 06:06:39.5440</td>\n",
       "      <td>145</td>\n",
       "      <td>29th St at Church St</td>\n",
       "      <td>37.743684</td>\n",
       "      <td>-122.426806</td>\n",
       "      <td>21</td>\n",
       "      <td>Montgomery St BART Station (Market St at 2nd St)</td>\n",
       "      <td>37.789625</td>\n",
       "      <td>-122.400811</td>\n",
       "      <td>1424</td>\n",
       "      <td>Subscriber</td>\n",
       "      <td>1970.0</td>\n",
       "      <td>Male</td>\n",
       "    </tr>\n",
       "    <tr>\n",
       "      <th>497871</th>\n",
       "      <td>791</td>\n",
       "      <td>2017-07-18 13:27:03.8960</td>\n",
       "      <td>2017-07-18 13:40:15.7860</td>\n",
       "      <td>14</td>\n",
       "      <td>Clay St at Battery St</td>\n",
       "      <td>37.795001</td>\n",
       "      <td>-122.399970</td>\n",
       "      <td>66</td>\n",
       "      <td>3rd St at Townsend St</td>\n",
       "      <td>37.778742</td>\n",
       "      <td>-122.392741</td>\n",
       "      <td>736</td>\n",
       "      <td>Subscriber</td>\n",
       "      <td>1978.0</td>\n",
       "      <td>Male</td>\n",
       "    </tr>\n",
       "    <tr>\n",
       "      <th>72163</th>\n",
       "      <td>613</td>\n",
       "      <td>2017-12-05 13:54:27.5390</td>\n",
       "      <td>2017-12-05 14:04:40.6790</td>\n",
       "      <td>13</td>\n",
       "      <td>Commercial St at Montgomery St</td>\n",
       "      <td>37.794231</td>\n",
       "      <td>-122.402923</td>\n",
       "      <td>62</td>\n",
       "      <td>Victoria Manalo Draves Park</td>\n",
       "      <td>37.777791</td>\n",
       "      <td>-122.406432</td>\n",
       "      <td>3144</td>\n",
       "      <td>Subscriber</td>\n",
       "      <td>1993.0</td>\n",
       "      <td>Male</td>\n",
       "    </tr>\n",
       "  </tbody>\n",
       "</table>\n",
       "</div>"
      ],
      "text/plain": [
       "        duration_sec                start_time                  end_time  \\\n",
       "1044            2054  2017-12-31 11:54:04.5350  2017-12-31 12:28:19.3620   \n",
       "134220          1666  2017-11-14 15:44:44.0840  2017-11-14 16:12:30.3340   \n",
       "259109           865  2017-10-10 08:10:53.8590  2017-10-10 08:25:19.1280   \n",
       "471202           511  2017-08-01 17:56:31.1680  2017-08-01 18:05:03.1520   \n",
       "307220           759  2017-09-26 16:13:13.7230  2017-09-26 16:25:52.9390   \n",
       "446443           922  2017-08-11 18:51:31.0170  2017-08-11 19:06:53.5190   \n",
       "89              1309  2017-12-31 22:05:27.3890  2017-12-31 22:27:16.5160   \n",
       "99245           1464  2017-11-28 05:42:15.0320  2017-11-28 06:06:39.5440   \n",
       "497871           791  2017-07-18 13:27:03.8960  2017-07-18 13:40:15.7860   \n",
       "72163            613  2017-12-05 13:54:27.5390  2017-12-05 14:04:40.6790   \n",
       "\n",
       "        start_station_id                                start_station_name  \\\n",
       "1044                  98                            Valencia St at 16th St   \n",
       "134220                21  Montgomery St BART Station (Market St at 2nd St)   \n",
       "259109                86                           Market St at Dolores St   \n",
       "471202               182                          19th Street BART Station   \n",
       "307220                81                                Berry St at 4th St   \n",
       "446443                 7                               Frank H Ogawa Plaza   \n",
       "89                    28                      The Embarcadero at Bryant St   \n",
       "99245                145                              29th St at Church St   \n",
       "497871                14                             Clay St at Battery St   \n",
       "72163                 13                    Commercial St at Montgomery St   \n",
       "\n",
       "        start_station_latitude  start_station_longitude  end_station_id  \\\n",
       "1044                 37.765052              -122.421866             324   \n",
       "134220               37.789625              -122.400811              20   \n",
       "259109               37.769305              -122.426826              37   \n",
       "471202               37.809013              -122.268247             178   \n",
       "307220               37.775880              -122.393170               9   \n",
       "446443               37.804562              -122.271738             194   \n",
       "89                   37.787168              -122.388098               6   \n",
       "99245                37.743684              -122.426806              21   \n",
       "497871               37.795001              -122.399970              66   \n",
       "72163                37.794231              -122.402923              62   \n",
       "\n",
       "                                        end_station_name  \\\n",
       "1044                 Union Square (Powell St at Post St)   \n",
       "134220   Mechanics Monument Plaza (Market St at Bush St)   \n",
       "259109                               2nd St at Folsom St   \n",
       "471202                               Broadway at 30th St   \n",
       "307220                            Broadway at Battery St   \n",
       "446443                  Lakeshore Ave at Trestle Glen Rd   \n",
       "89                         The Embarcadero at Sansome St   \n",
       "99245   Montgomery St BART Station (Market St at 2nd St)   \n",
       "497871                             3rd St at Townsend St   \n",
       "72163                        Victoria Manalo Draves Park   \n",
       "\n",
       "        end_station_latitude  end_station_longitude  bike_id   user_type  \\\n",
       "1044               37.788300            -122.408531     1672    Customer   \n",
       "134220             37.791300            -122.399051     2267  Subscriber   \n",
       "259109             37.785000            -122.395936     3056  Subscriber   \n",
       "471202             37.819381            -122.261928     1415  Subscriber   \n",
       "307220             37.798572            -122.400869     2126  Subscriber   \n",
       "446443             37.811081            -122.243268     1433    Customer   \n",
       "89                 37.804770            -122.403234     2629    Customer   \n",
       "99245              37.789625            -122.400811     1424  Subscriber   \n",
       "497871             37.778742            -122.392741      736  Subscriber   \n",
       "72163              37.777791            -122.406432     3144  Subscriber   \n",
       "\n",
       "        member_birth_year member_gender  \n",
       "1044               1992.0          Male  \n",
       "134220                NaN           NaN  \n",
       "259109             1994.0          Male  \n",
       "471202             1980.0        Female  \n",
       "307220             1963.0          Male  \n",
       "446443             1967.0          Male  \n",
       "89                    NaN           NaN  \n",
       "99245              1970.0          Male  \n",
       "497871             1978.0          Male  \n",
       "72163              1993.0          Male  "
      ]
     },
     "execution_count": 11,
     "metadata": {},
     "output_type": "execute_result"
    }
   ],
   "source": [
    "#Sample of 10 rows of data\n",
    "df.sample(10)"
   ]
  },
  {
   "cell_type": "code",
   "execution_count": 12,
   "metadata": {},
   "outputs": [
    {
     "data": {
      "image/png": "[encoded data removed]",
      "text/plain": [
       "<Figure size 1080x720 with 9 Axes>"
      ]
     },
     "metadata": {
      "needs_background": "light"
     },
     "output_type": "display_data"
    }
   ],
   "source": [
    "#Create histograms to further explore data\n",
    "df.hist(figsize=(15,10));"
   ]
  },
  {
   "cell_type": "markdown",
   "metadata": {},
   "source": [
    "  <a id='quality'></a>\n",
    "   ### Quality\n",
    "   The current dataset is tidy, but the below quality issues were identified. As a result, the data set will be cleaned prior to performing any analysis.\n",
    "   - The variables start_time & end_time are not in the timestamp format\n",
    "   - The following columns should be converted to object: start_station_id, end_station_id, bike_id\n",
    "   - Change the variables user_type & member_gender to category \n",
    "   - The variable member_birth_year should be used to create new variable member_age\n",
    "   - There are incorrect values in member_age,  member_age should be converted into an integer and remove birth_year from the dataset.\n",
    "   - Calculate trip duration in seconds from duration_sec & remove duration_sec from the dataset\n",
    "   - Extract month, day of week and hour from start_time and hour from end_time\n",
    "   - Calculate distance from latitude and longitude of start and end stations.\n",
    "   - Identify and remove outliers in dist_miles.\n",
    "   - Remove variables from dataset which will not be used for analysis:\n",
    "       - start_time, end_time, start_station_name, start_station_latitude, start_station_longitude, end_station_name, end_station_longitude, end_station_latitude, dist_km"
   ]
  },
  {
   "cell_type": "markdown",
   "metadata": {},
   "source": [
    "<a id = 'clean'></a>\n",
    "### Clean\n",
    "In the Clean section, data issues discovered in the Quality sub-section of Assess, will be defined, coded and tested."
   ]
  },
  {
   "cell_type": "markdown",
   "metadata": {},
   "source": [
    "#### Create copy of dataframe for cleaning."
   ]
  },
  {
   "cell_type": "code",
   "execution_count": 13,
   "metadata": {},
   "outputs": [],
   "source": [
    "df_clean = df.copy()"
   ]
  },
  {
   "cell_type": "markdown",
   "metadata": {},
   "source": [
    "#### Define: \n",
    "- The variables start_time & end_time are not in the timestamp format."
   ]
  },
  {
   "cell_type": "markdown",
   "metadata": {},
   "source": [
    "#### Code:"
   ]
  },
  {
   "cell_type": "code",
   "execution_count": 14,
   "metadata": {},
   "outputs": [],
   "source": [
    "#Convert start_time & end_time to datetime.\n",
    "df_clean.start_time = pd.to_datetime(df_clean.start_time)\n",
    "df_clean.end_time = pd.to_datetime(df_clean.end_time)"
   ]
  },
  {
   "cell_type": "markdown",
   "metadata": {},
   "source": [
    "#### Test:"
   ]
  },
  {
   "cell_type": "code",
   "execution_count": 15,
   "metadata": {},
   "outputs": [
    {
     "data": {
      "text/plain": [
       "duration_sec                        int64\n",
       "start_time                 datetime64[ns]\n",
       "end_time                   datetime64[ns]\n",
       "start_station_id                    int64\n",
       "start_station_name                 object\n",
       "start_station_latitude            float64\n",
       "start_station_longitude           float64\n",
       "end_station_id                      int64\n",
       "end_station_name                   object\n",
       "end_station_latitude              float64\n",
       "end_station_longitude             float64\n",
       "bike_id                             int64\n",
       "user_type                          object\n",
       "member_birth_year                 float64\n",
       "member_gender                      object\n",
       "dtype: object"
      ]
     },
     "execution_count": 15,
     "metadata": {},
     "output_type": "execute_result"
    }
   ],
   "source": [
    "df_clean.dtypes"
   ]
  },
  {
   "cell_type": "markdown",
   "metadata": {},
   "source": [
    "#### Define:\n",
    "\n",
    "- Convert the following columns to object formatting: start_station_id, end_station_id, bike_id"
   ]
  },
  {
   "cell_type": "markdown",
   "metadata": {},
   "source": [
    "#### Code:"
   ]
  },
  {
   "cell_type": "code",
   "execution_count": 16,
   "metadata": {},
   "outputs": [],
   "source": [
    "#Convert start_station_id, end_station_id & bike_id to object\n",
    "df_clean.start_station_id = df_clean.start_station_id.astype(str)\n",
    "df_clean.end_station_id = df_clean.end_station_id.astype(str)\n",
    "df_clean.bike_id = df_clean.bike_id.astype(str)"
   ]
  },
  {
   "cell_type": "markdown",
   "metadata": {},
   "source": [
    "#### Test:"
   ]
  },
  {
   "cell_type": "code",
   "execution_count": 17,
   "metadata": {},
   "outputs": [
    {
     "data": {
      "text/plain": [
       "duration_sec                        int64\n",
       "start_time                 datetime64[ns]\n",
       "end_time                   datetime64[ns]\n",
       "start_station_id                   object\n",
       "start_station_name                 object\n",
       "start_station_latitude            float64\n",
       "start_station_longitude           float64\n",
       "end_station_id                     object\n",
       "end_station_name                   object\n",
       "end_station_latitude              float64\n",
       "end_station_longitude             float64\n",
       "bike_id                            object\n",
       "user_type                          object\n",
       "member_birth_year                 float64\n",
       "member_gender                      object\n",
       "dtype: object"
      ]
     },
     "execution_count": 17,
     "metadata": {},
     "output_type": "execute_result"
    }
   ],
   "source": [
    "df_clean.dtypes"
   ]
  },
  {
   "cell_type": "markdown",
   "metadata": {},
   "source": [
    "#### Define\n",
    "- Convert user_type & member_gender to datatype category"
   ]
  },
  {
   "cell_type": "markdown",
   "metadata": {},
   "source": [
    "#### Code:"
   ]
  },
  {
   "cell_type": "code",
   "execution_count": 18,
   "metadata": {},
   "outputs": [],
   "source": [
    "#Use .astype to convert user_type & member_gender to dtype category.\n",
    "df_clean.user_type = df_clean.user_type.astype('category')\n",
    "df_clean.member_gender = df_clean.member_gender.astype('category')"
   ]
  },
  {
   "cell_type": "markdown",
   "metadata": {},
   "source": [
    "#### Test:"
   ]
  },
  {
   "cell_type": "code",
   "execution_count": 19,
   "metadata": {},
   "outputs": [
    {
     "data": {
      "text/plain": [
       "duration_sec                        int64\n",
       "start_time                 datetime64[ns]\n",
       "end_time                   datetime64[ns]\n",
       "start_station_id                   object\n",
       "start_station_name                 object\n",
       "start_station_latitude            float64\n",
       "start_station_longitude           float64\n",
       "end_station_id                     object\n",
       "end_station_name                   object\n",
       "end_station_latitude              float64\n",
       "end_station_longitude             float64\n",
       "bike_id                            object\n",
       "user_type                        category\n",
       "member_birth_year                 float64\n",
       "member_gender                    category\n",
       "dtype: object"
      ]
     },
     "execution_count": 19,
     "metadata": {},
     "output_type": "execute_result"
    }
   ],
   "source": [
    "df_clean.dtypes"
   ]
  },
  {
   "cell_type": "markdown",
   "metadata": {},
   "source": [
    "#### Define:\n",
    "- Create new variable member_age by utilizing member_birth_year."
   ]
  },
  {
   "cell_type": "markdown",
   "metadata": {},
   "source": [
    "#### Code:"
   ]
  },
  {
   "cell_type": "code",
   "execution_count": 20,
   "metadata": {},
   "outputs": [],
   "source": [
    "# Subtract member_birth_year from 2017 to calculate bikeshare users age\n",
    "df_clean['member_age'] = 2017 - df_clean['member_birth_year']"
   ]
  },
  {
   "cell_type": "markdown",
   "metadata": {},
   "source": [
    "#### Test:"
   ]
  },
  {
   "cell_type": "code",
   "execution_count": 21,
   "metadata": {},
   "outputs": [
    {
     "data": {
      "text/html": [
       "<div>\n",
       "<style scoped>\n",
       "    .dataframe tbody tr th:only-of-type {\n",
       "        vertical-align: middle;\n",
       "    }\n",
       "\n",
       "    .dataframe tbody tr th {\n",
       "        vertical-align: top;\n",
       "    }\n",
       "\n",
       "    .dataframe thead th {\n",
       "        text-align: right;\n",
       "    }\n",
       "</style>\n",
       "<table border=\"1\" class=\"dataframe\">\n",
       "  <thead>\n",
       "    <tr style=\"text-align: right;\">\n",
       "      <th></th>\n",
       "      <th>duration_sec</th>\n",
       "      <th>start_time</th>\n",
       "      <th>end_time</th>\n",
       "      <th>start_station_id</th>\n",
       "      <th>start_station_name</th>\n",
       "      <th>start_station_latitude</th>\n",
       "      <th>start_station_longitude</th>\n",
       "      <th>end_station_id</th>\n",
       "      <th>end_station_name</th>\n",
       "      <th>end_station_latitude</th>\n",
       "      <th>end_station_longitude</th>\n",
       "      <th>bike_id</th>\n",
       "      <th>user_type</th>\n",
       "      <th>member_birth_year</th>\n",
       "      <th>member_gender</th>\n",
       "      <th>member_age</th>\n",
       "    </tr>\n",
       "  </thead>\n",
       "  <tbody>\n",
       "    <tr>\n",
       "      <th>0</th>\n",
       "      <td>80110</td>\n",
       "      <td>2017-12-31 16:57:39.654</td>\n",
       "      <td>2018-01-01 15:12:50.245</td>\n",
       "      <td>74</td>\n",
       "      <td>Laguna St at Hayes St</td>\n",
       "      <td>37.776435</td>\n",
       "      <td>-122.426244</td>\n",
       "      <td>43</td>\n",
       "      <td>San Francisco Public Library (Grove St at Hyde...</td>\n",
       "      <td>37.778768</td>\n",
       "      <td>-122.415929</td>\n",
       "      <td>96</td>\n",
       "      <td>Customer</td>\n",
       "      <td>1987.0</td>\n",
       "      <td>Male</td>\n",
       "      <td>30.0</td>\n",
       "    </tr>\n",
       "    <tr>\n",
       "      <th>1</th>\n",
       "      <td>78800</td>\n",
       "      <td>2017-12-31 15:56:34.842</td>\n",
       "      <td>2018-01-01 13:49:55.617</td>\n",
       "      <td>284</td>\n",
       "      <td>Yerba Buena Center for the Arts (Howard St at ...</td>\n",
       "      <td>37.784872</td>\n",
       "      <td>-122.400876</td>\n",
       "      <td>96</td>\n",
       "      <td>Dolores St at 15th St</td>\n",
       "      <td>37.766210</td>\n",
       "      <td>-122.426614</td>\n",
       "      <td>88</td>\n",
       "      <td>Customer</td>\n",
       "      <td>1965.0</td>\n",
       "      <td>Female</td>\n",
       "      <td>52.0</td>\n",
       "    </tr>\n",
       "    <tr>\n",
       "      <th>2</th>\n",
       "      <td>45768</td>\n",
       "      <td>2017-12-31 22:45:48.411</td>\n",
       "      <td>2018-01-01 11:28:36.883</td>\n",
       "      <td>245</td>\n",
       "      <td>Downtown Berkeley BART</td>\n",
       "      <td>37.870348</td>\n",
       "      <td>-122.267764</td>\n",
       "      <td>245</td>\n",
       "      <td>Downtown Berkeley BART</td>\n",
       "      <td>37.870348</td>\n",
       "      <td>-122.267764</td>\n",
       "      <td>1094</td>\n",
       "      <td>Customer</td>\n",
       "      <td>NaN</td>\n",
       "      <td>NaN</td>\n",
       "      <td>NaN</td>\n",
       "    </tr>\n",
       "    <tr>\n",
       "      <th>3</th>\n",
       "      <td>62172</td>\n",
       "      <td>2017-12-31 17:31:10.636</td>\n",
       "      <td>2018-01-01 10:47:23.531</td>\n",
       "      <td>60</td>\n",
       "      <td>8th St at Ringold St</td>\n",
       "      <td>37.774520</td>\n",
       "      <td>-122.409449</td>\n",
       "      <td>5</td>\n",
       "      <td>Powell St BART Station (Market St at 5th St)</td>\n",
       "      <td>37.783899</td>\n",
       "      <td>-122.408445</td>\n",
       "      <td>2831</td>\n",
       "      <td>Customer</td>\n",
       "      <td>NaN</td>\n",
       "      <td>NaN</td>\n",
       "      <td>NaN</td>\n",
       "    </tr>\n",
       "    <tr>\n",
       "      <th>4</th>\n",
       "      <td>43603</td>\n",
       "      <td>2017-12-31 14:23:14.001</td>\n",
       "      <td>2018-01-01 02:29:57.571</td>\n",
       "      <td>239</td>\n",
       "      <td>Bancroft Way at Telegraph Ave</td>\n",
       "      <td>37.868813</td>\n",
       "      <td>-122.258764</td>\n",
       "      <td>247</td>\n",
       "      <td>Fulton St at Bancroft Way</td>\n",
       "      <td>37.867789</td>\n",
       "      <td>-122.265896</td>\n",
       "      <td>3167</td>\n",
       "      <td>Subscriber</td>\n",
       "      <td>1997.0</td>\n",
       "      <td>Female</td>\n",
       "      <td>20.0</td>\n",
       "    </tr>\n",
       "  </tbody>\n",
       "</table>\n",
       "</div>"
      ],
      "text/plain": [
       "   duration_sec              start_time                end_time  \\\n",
       "0         80110 2017-12-31 16:57:39.654 2018-01-01 15:12:50.245   \n",
       "1         78800 2017-12-31 15:56:34.842 2018-01-01 13:49:55.617   \n",
       "2         45768 2017-12-31 22:45:48.411 2018-01-01 11:28:36.883   \n",
       "3         62172 2017-12-31 17:31:10.636 2018-01-01 10:47:23.531   \n",
       "4         43603 2017-12-31 14:23:14.001 2018-01-01 02:29:57.571   \n",
       "\n",
       "  start_station_id                                 start_station_name  \\\n",
       "0               74                              Laguna St at Hayes St   \n",
       "1              284  Yerba Buena Center for the Arts (Howard St at ...   \n",
       "2              245                             Downtown Berkeley BART   \n",
       "3               60                               8th St at Ringold St   \n",
       "4              239                      Bancroft Way at Telegraph Ave   \n",
       "\n",
       "   start_station_latitude  start_station_longitude end_station_id  \\\n",
       "0               37.776435              -122.426244             43   \n",
       "1               37.784872              -122.400876             96   \n",
       "2               37.870348              -122.267764            245   \n",
       "3               37.774520              -122.409449              5   \n",
       "4               37.868813              -122.258764            247   \n",
       "\n",
       "                                    end_station_name  end_station_latitude  \\\n",
       "0  San Francisco Public Library (Grove St at Hyde...             37.778768   \n",
       "1                              Dolores St at 15th St             37.766210   \n",
       "2                             Downtown Berkeley BART             37.870348   \n",
       "3       Powell St BART Station (Market St at 5th St)             37.783899   \n",
       "4                          Fulton St at Bancroft Way             37.867789   \n",
       "\n",
       "   end_station_longitude bike_id   user_type  member_birth_year member_gender  \\\n",
       "0            -122.415929      96    Customer             1987.0          Male   \n",
       "1            -122.426614      88    Customer             1965.0        Female   \n",
       "2            -122.267764    1094    Customer                NaN           NaN   \n",
       "3            -122.408445    2831    Customer                NaN           NaN   \n",
       "4            -122.265896    3167  Subscriber             1997.0        Female   \n",
       "\n",
       "   member_age  \n",
       "0        30.0  \n",
       "1        52.0  \n",
       "2         NaN  \n",
       "3         NaN  \n",
       "4        20.0  "
      ]
     },
     "execution_count": 21,
     "metadata": {},
     "output_type": "execute_result"
    }
   ],
   "source": [
    "df_clean.head()"
   ]
  },
  {
   "cell_type": "markdown",
   "metadata": {},
   "source": [
    "#### Define:\n",
    "- Explore & remove outliers in member_age.\n",
    "- Convert member_age into an integer.\n",
    "- Drop member_birth_year from dataset."
   ]
  },
  {
   "cell_type": "markdown",
   "metadata": {},
   "source": [
    "#### Code:"
   ]
  },
  {
   "cell_type": "code",
   "execution_count": 22,
   "metadata": {},
   "outputs": [
    {
     "data": {
      "text/plain": [
       "count    453159.000000\n",
       "mean         36.595213\n",
       "std          10.513488\n",
       "min          18.000000\n",
       "25%          29.000000\n",
       "50%          34.000000\n",
       "75%          43.000000\n",
       "max         131.000000\n",
       "Name: member_age, dtype: float64"
      ]
     },
     "execution_count": 22,
     "metadata": {},
     "output_type": "execute_result"
    }
   ],
   "source": [
    "#Explore descriptive statistics for member_age\n",
    "df_clean.member_age.describe()"
   ]
  },
  {
   "cell_type": "code",
   "execution_count": 23,
   "metadata": {},
   "outputs": [
    {
     "data": {
      "text/plain": [
       "count    453159.000000\n",
       "mean         36.595213\n",
       "std          10.513488\n",
       "min          18.000000\n",
       "50%          34.000000\n",
       "99%          66.000000\n",
       "max         131.000000\n",
       "Name: member_age, dtype: float64"
      ]
     },
     "execution_count": 23,
     "metadata": {},
     "output_type": "execute_result"
    }
   ],
   "source": [
    "#Calculate percentiles\n",
    "df_clean.member_age.describe(percentiles = [.99])"
   ]
  },
  {
   "cell_type": "code",
   "execution_count": 24,
   "metadata": {},
   "outputs": [],
   "source": [
    "#Remove bikeshare riders that were older than 66.\n",
    "df_clean = df_clean.query('member_age <= 66')"
   ]
  },
  {
   "cell_type": "code",
   "execution_count": 25,
   "metadata": {},
   "outputs": [],
   "source": [
    "#Convert member_age to an integer\n",
    "df_clean.member_age = df_clean.member_age.astype(int)"
   ]
  },
  {
   "cell_type": "code",
   "execution_count": 26,
   "metadata": {},
   "outputs": [],
   "source": [
    "#Remove member_birth_year from df_clean.\n",
    "df_clean.drop(['member_birth_year'], axis=1, inplace=True)"
   ]
  },
  {
   "cell_type": "markdown",
   "metadata": {},
   "source": [
    "#### Test:"
   ]
  },
  {
   "cell_type": "code",
   "execution_count": 27,
   "metadata": {},
   "outputs": [
    {
     "name": "stdout",
     "output_type": "stream",
     "text": [
      "<class 'pandas.core.frame.DataFrame'>\n",
      "Int64Index: 449234 entries, 0 to 519699\n",
      "Data columns (total 15 columns):\n",
      "duration_sec               449234 non-null int64\n",
      "start_time                 449234 non-null datetime64[ns]\n",
      "end_time                   449234 non-null datetime64[ns]\n",
      "start_station_id           449234 non-null object\n",
      "start_station_name         449234 non-null object\n",
      "start_station_latitude     449234 non-null float64\n",
      "start_station_longitude    449234 non-null float64\n",
      "end_station_id             449234 non-null object\n",
      "end_station_name           449234 non-null object\n",
      "end_station_latitude       449234 non-null float64\n",
      "end_station_longitude      449234 non-null float64\n",
      "bike_id                    449234 non-null object\n",
      "user_type                  449234 non-null category\n",
      "member_gender              449234 non-null category\n",
      "member_age                 449234 non-null int64\n",
      "dtypes: category(2), datetime64[ns](2), float64(4), int64(2), object(5)\n",
      "memory usage: 48.8+ MB\n"
     ]
    }
   ],
   "source": [
    "df_clean.info()"
   ]
  },
  {
   "cell_type": "code",
   "execution_count": 28,
   "metadata": {},
   "outputs": [
    {
     "data": {
      "text/html": [
       "<div>\n",
       "<style scoped>\n",
       "    .dataframe tbody tr th:only-of-type {\n",
       "        vertical-align: middle;\n",
       "    }\n",
       "\n",
       "    .dataframe tbody tr th {\n",
       "        vertical-align: top;\n",
       "    }\n",
       "\n",
       "    .dataframe thead th {\n",
       "        text-align: right;\n",
       "    }\n",
       "</style>\n",
       "<table border=\"1\" class=\"dataframe\">\n",
       "  <thead>\n",
       "    <tr style=\"text-align: right;\">\n",
       "      <th></th>\n",
       "      <th>duration_sec</th>\n",
       "      <th>start_time</th>\n",
       "      <th>end_time</th>\n",
       "      <th>start_station_id</th>\n",
       "      <th>start_station_name</th>\n",
       "      <th>start_station_latitude</th>\n",
       "      <th>start_station_longitude</th>\n",
       "      <th>end_station_id</th>\n",
       "      <th>end_station_name</th>\n",
       "      <th>end_station_latitude</th>\n",
       "      <th>end_station_longitude</th>\n",
       "      <th>bike_id</th>\n",
       "      <th>user_type</th>\n",
       "      <th>member_gender</th>\n",
       "      <th>member_age</th>\n",
       "    </tr>\n",
       "  </thead>\n",
       "  <tbody>\n",
       "    <tr>\n",
       "      <th>0</th>\n",
       "      <td>80110</td>\n",
       "      <td>2017-12-31 16:57:39.654</td>\n",
       "      <td>2018-01-01 15:12:50.245</td>\n",
       "      <td>74</td>\n",
       "      <td>Laguna St at Hayes St</td>\n",
       "      <td>37.776435</td>\n",
       "      <td>-122.426244</td>\n",
       "      <td>43</td>\n",
       "      <td>San Francisco Public Library (Grove St at Hyde...</td>\n",
       "      <td>37.778768</td>\n",
       "      <td>-122.415929</td>\n",
       "      <td>96</td>\n",
       "      <td>Customer</td>\n",
       "      <td>Male</td>\n",
       "      <td>30</td>\n",
       "    </tr>\n",
       "    <tr>\n",
       "      <th>1</th>\n",
       "      <td>78800</td>\n",
       "      <td>2017-12-31 15:56:34.842</td>\n",
       "      <td>2018-01-01 13:49:55.617</td>\n",
       "      <td>284</td>\n",
       "      <td>Yerba Buena Center for the Arts (Howard St at ...</td>\n",
       "      <td>37.784872</td>\n",
       "      <td>-122.400876</td>\n",
       "      <td>96</td>\n",
       "      <td>Dolores St at 15th St</td>\n",
       "      <td>37.766210</td>\n",
       "      <td>-122.426614</td>\n",
       "      <td>88</td>\n",
       "      <td>Customer</td>\n",
       "      <td>Female</td>\n",
       "      <td>52</td>\n",
       "    </tr>\n",
       "    <tr>\n",
       "      <th>4</th>\n",
       "      <td>43603</td>\n",
       "      <td>2017-12-31 14:23:14.001</td>\n",
       "      <td>2018-01-01 02:29:57.571</td>\n",
       "      <td>239</td>\n",
       "      <td>Bancroft Way at Telegraph Ave</td>\n",
       "      <td>37.868813</td>\n",
       "      <td>-122.258764</td>\n",
       "      <td>247</td>\n",
       "      <td>Fulton St at Bancroft Way</td>\n",
       "      <td>37.867789</td>\n",
       "      <td>-122.265896</td>\n",
       "      <td>3167</td>\n",
       "      <td>Subscriber</td>\n",
       "      <td>Female</td>\n",
       "      <td>20</td>\n",
       "    </tr>\n",
       "    <tr>\n",
       "      <th>6</th>\n",
       "      <td>4507</td>\n",
       "      <td>2017-12-31 23:49:28.422</td>\n",
       "      <td>2018-01-01 01:04:35.619</td>\n",
       "      <td>259</td>\n",
       "      <td>Addison St at Fourth St</td>\n",
       "      <td>37.866249</td>\n",
       "      <td>-122.299371</td>\n",
       "      <td>259</td>\n",
       "      <td>Addison St at Fourth St</td>\n",
       "      <td>37.866249</td>\n",
       "      <td>-122.299371</td>\n",
       "      <td>3539</td>\n",
       "      <td>Customer</td>\n",
       "      <td>Female</td>\n",
       "      <td>26</td>\n",
       "    </tr>\n",
       "    <tr>\n",
       "      <th>12</th>\n",
       "      <td>2183</td>\n",
       "      <td>2017-12-31 23:52:55.581</td>\n",
       "      <td>2018-01-01 00:29:18.743</td>\n",
       "      <td>67</td>\n",
       "      <td>San Francisco Caltrain Station 2  (Townsend St...</td>\n",
       "      <td>37.776639</td>\n",
       "      <td>-122.395526</td>\n",
       "      <td>24</td>\n",
       "      <td>Spear St at Folsom St</td>\n",
       "      <td>37.789677</td>\n",
       "      <td>-122.390428</td>\n",
       "      <td>2311</td>\n",
       "      <td>Subscriber</td>\n",
       "      <td>Male</td>\n",
       "      <td>27</td>\n",
       "    </tr>\n",
       "  </tbody>\n",
       "</table>\n",
       "</div>"
      ],
      "text/plain": [
       "    duration_sec              start_time                end_time  \\\n",
       "0          80110 2017-12-31 16:57:39.654 2018-01-01 15:12:50.245   \n",
       "1          78800 2017-12-31 15:56:34.842 2018-01-01 13:49:55.617   \n",
       "4          43603 2017-12-31 14:23:14.001 2018-01-01 02:29:57.571   \n",
       "6           4507 2017-12-31 23:49:28.422 2018-01-01 01:04:35.619   \n",
       "12          2183 2017-12-31 23:52:55.581 2018-01-01 00:29:18.743   \n",
       "\n",
       "   start_station_id                                 start_station_name  \\\n",
       "0                74                              Laguna St at Hayes St   \n",
       "1               284  Yerba Buena Center for the Arts (Howard St at ...   \n",
       "4               239                      Bancroft Way at Telegraph Ave   \n",
       "6               259                            Addison St at Fourth St   \n",
       "12               67  San Francisco Caltrain Station 2  (Townsend St...   \n",
       "\n",
       "    start_station_latitude  start_station_longitude end_station_id  \\\n",
       "0                37.776435              -122.426244             43   \n",
       "1                37.784872              -122.400876             96   \n",
       "4                37.868813              -122.258764            247   \n",
       "6                37.866249              -122.299371            259   \n",
       "12               37.776639              -122.395526             24   \n",
       "\n",
       "                                     end_station_name  end_station_latitude  \\\n",
       "0   San Francisco Public Library (Grove St at Hyde...             37.778768   \n",
       "1                               Dolores St at 15th St             37.766210   \n",
       "4                           Fulton St at Bancroft Way             37.867789   \n",
       "6                             Addison St at Fourth St             37.866249   \n",
       "12                              Spear St at Folsom St             37.789677   \n",
       "\n",
       "    end_station_longitude bike_id   user_type member_gender  member_age  \n",
       "0             -122.415929      96    Customer          Male          30  \n",
       "1             -122.426614      88    Customer        Female          52  \n",
       "4             -122.265896    3167  Subscriber        Female          20  \n",
       "6             -122.299371    3539    Customer        Female          26  \n",
       "12            -122.390428    2311  Subscriber          Male          27  "
      ]
     },
     "execution_count": 28,
     "metadata": {},
     "output_type": "execute_result"
    }
   ],
   "source": [
    "df_clean.head()"
   ]
  },
  {
   "cell_type": "markdown",
   "metadata": {},
   "source": [
    "#### Define:\n",
    "- Convert duration_sec into duration_min\n",
    "- Remove duration_min from dataframe"
   ]
  },
  {
   "cell_type": "markdown",
   "metadata": {},
   "source": [
    "#### Code:"
   ]
  },
  {
   "cell_type": "code",
   "execution_count": 29,
   "metadata": {},
   "outputs": [],
   "source": [
    "#Convert duration in seconds to duration in minutes\n",
    "df_clean['duration_min'] = df_clean['duration_sec']/60\n",
    "df_clean['duration_min'] = df_clean['duration_min'].astype(int)"
   ]
  },
  {
   "cell_type": "code",
   "execution_count": 30,
   "metadata": {},
   "outputs": [
    {
     "data": {
      "text/plain": [
       "count    449234.000000\n",
       "mean         13.389893\n",
       "std          42.082262\n",
       "min           1.000000\n",
       "25%           6.000000\n",
       "50%           9.000000\n",
       "75%          13.000000\n",
       "max        1437.000000\n",
       "Name: duration_min, dtype: float64"
      ]
     },
     "execution_count": 30,
     "metadata": {},
     "output_type": "execute_result"
    }
   ],
   "source": [
    "#Descriptive statistics for duration_min to explore range of usage\n",
    "df_clean.duration_min.describe()"
   ]
  },
  {
   "cell_type": "code",
   "execution_count": 31,
   "metadata": {},
   "outputs": [
    {
     "data": {
      "text/plain": [
       "count    449234.000000\n",
       "mean         13.389893\n",
       "std          42.082262\n",
       "min           1.000000\n",
       "50%           9.000000\n",
       "99%          74.000000\n",
       "max        1437.000000\n",
       "Name: duration_min, dtype: float64"
      ]
     },
     "execution_count": 31,
     "metadata": {},
     "output_type": "execute_result"
    }
   ],
   "source": [
    "#Calculate percentiles\n",
    "df_clean.duration_min.describe(percentiles = [.99])"
   ]
  },
  {
   "cell_type": "code",
   "execution_count": 32,
   "metadata": {},
   "outputs": [],
   "source": [
    "#Remove bikeshare data for trips longer than 74 minutes.\n",
    "df_clean = df_clean.query('duration_min <= 74')"
   ]
  },
  {
   "cell_type": "code",
   "execution_count": 33,
   "metadata": {},
   "outputs": [],
   "source": [
    "#Remove duration_sec from df_clean.\n",
    "df_clean.drop(['duration_sec'], axis=1, inplace=True)"
   ]
  },
  {
   "cell_type": "markdown",
   "metadata": {},
   "source": [
    "#### Test:"
   ]
  },
  {
   "cell_type": "code",
   "execution_count": 34,
   "metadata": {},
   "outputs": [
    {
     "name": "stdout",
     "output_type": "stream",
     "text": [
      "<class 'pandas.core.frame.DataFrame'>\n",
      "Int64Index: 444745 entries, 12 to 519699\n",
      "Data columns (total 15 columns):\n",
      "start_time                 444745 non-null datetime64[ns]\n",
      "end_time                   444745 non-null datetime64[ns]\n",
      "start_station_id           444745 non-null object\n",
      "start_station_name         444745 non-null object\n",
      "start_station_latitude     444745 non-null float64\n",
      "start_station_longitude    444745 non-null float64\n",
      "end_station_id             444745 non-null object\n",
      "end_station_name           444745 non-null object\n",
      "end_station_latitude       444745 non-null float64\n",
      "end_station_longitude      444745 non-null float64\n",
      "bike_id                    444745 non-null object\n",
      "user_type                  444745 non-null category\n",
      "member_gender              444745 non-null category\n",
      "member_age                 444745 non-null int64\n",
      "duration_min               444745 non-null int64\n",
      "dtypes: category(2), datetime64[ns](2), float64(4), int64(2), object(5)\n",
      "memory usage: 48.4+ MB\n"
     ]
    }
   ],
   "source": [
    "df_clean.info()"
   ]
  },
  {
   "cell_type": "markdown",
   "metadata": {},
   "source": [
    "#### Define:\n",
    "- Extract month, day of week and hour from start_time and hour from end_time"
   ]
  },
  {
   "cell_type": "markdown",
   "metadata": {},
   "source": [
    "#### Code:"
   ]
  },
  {
   "cell_type": "code",
   "execution_count": 35,
   "metadata": {},
   "outputs": [],
   "source": [
    "#Extract month from start_time & create new column start_month\n",
    "df_clean['start_month'] = df_clean.start_time.map(lambda month: month.month_name())"
   ]
  },
  {
   "cell_type": "code",
   "execution_count": 36,
   "metadata": {},
   "outputs": [],
   "source": [
    "#Extract weekday from start_time & create new column start_weekday\n",
    "df_clean['start_weekday'] = df_clean.start_time.map(lambda day: day.day_name())"
   ]
  },
  {
   "cell_type": "code",
   "execution_count": 37,
   "metadata": {},
   "outputs": [],
   "source": [
    "#Extract hour from start_time & create new column start_hour\n",
    "df_clean['start_hour'] = df_clean.start_time.apply(lambda x: x.hour)"
   ]
  },
  {
   "cell_type": "code",
   "execution_count": 38,
   "metadata": {},
   "outputs": [],
   "source": [
    "#Extract hour from end_time & create new column end_hour\n",
    "df_clean['end_hour'] = df_clean.end_time.apply(lambda x: x.hour)"
   ]
  },
  {
   "cell_type": "markdown",
   "metadata": {},
   "source": [
    "#### Test:"
   ]
  },
  {
   "cell_type": "code",
   "execution_count": 39,
   "metadata": {},
   "outputs": [
    {
     "name": "stdout",
     "output_type": "stream",
     "text": [
      "October      93758\n",
      "November     84782\n",
      "September    83818\n",
      "December     76855\n",
      "August       68293\n",
      "July         34904\n",
      "June          2335\n",
      "Name: start_month, dtype: int64\n",
      "Tuesday      79219\n",
      "Wednesday    79140\n",
      "Thursday     75880\n",
      "Monday       72419\n",
      "Friday       70807\n",
      "Saturday     35564\n",
      "Sunday       31716\n",
      "Name: start_weekday, dtype: int64\n",
      "8     54086\n",
      "17    53828\n",
      "9     41479\n",
      "18    41232\n",
      "16    34827\n",
      "7     25357\n",
      "19    23285\n",
      "15    21946\n",
      "12    21113\n",
      "13    20499\n",
      "10    20345\n",
      "11    18481\n",
      "14    18349\n",
      "20    14459\n",
      "21    10241\n",
      "6      8329\n",
      "22     6586\n",
      "23     3958\n",
      "0      2076\n",
      "5      1905\n",
      "1      1020\n",
      "2       571\n",
      "4       526\n",
      "3       247\n",
      "Name: start_hour, dtype: int64\n",
      "17    52449\n",
      "8     49965\n",
      "9     46889\n",
      "18    44458\n",
      "16    32402\n",
      "19    25989\n",
      "10    21995\n",
      "13    20983\n",
      "12    20918\n",
      "7     20605\n",
      "15    20328\n",
      "14    18273\n",
      "11    17918\n",
      "20    15662\n",
      "21    10623\n",
      "22     7362\n",
      "6      7146\n",
      "23     4340\n",
      "0      2334\n",
      "5      1577\n",
      "1      1110\n",
      "2       665\n",
      "4       472\n",
      "3       282\n",
      "Name: end_hour, dtype: int64\n"
     ]
    }
   ],
   "source": [
    "print(df_clean.start_month.value_counts())\n",
    "print(df_clean.start_weekday.value_counts())\n",
    "print(df_clean.start_hour.value_counts())\n",
    "print(df_clean.end_hour.value_counts())"
   ]
  },
  {
   "cell_type": "code",
   "execution_count": 40,
   "metadata": {},
   "outputs": [
    {
     "data": {
      "text/html": [
       "<div>\n",
       "<style scoped>\n",
       "    .dataframe tbody tr th:only-of-type {\n",
       "        vertical-align: middle;\n",
       "    }\n",
       "\n",
       "    .dataframe tbody tr th {\n",
       "        vertical-align: top;\n",
       "    }\n",
       "\n",
       "    .dataframe thead th {\n",
       "        text-align: right;\n",
       "    }\n",
       "</style>\n",
       "<table border=\"1\" class=\"dataframe\">\n",
       "  <thead>\n",
       "    <tr style=\"text-align: right;\">\n",
       "      <th></th>\n",
       "      <th>start_time</th>\n",
       "      <th>end_time</th>\n",
       "      <th>start_station_id</th>\n",
       "      <th>start_station_name</th>\n",
       "      <th>start_station_latitude</th>\n",
       "      <th>start_station_longitude</th>\n",
       "      <th>end_station_id</th>\n",
       "      <th>end_station_name</th>\n",
       "      <th>end_station_latitude</th>\n",
       "      <th>end_station_longitude</th>\n",
       "      <th>bike_id</th>\n",
       "      <th>user_type</th>\n",
       "      <th>member_gender</th>\n",
       "      <th>member_age</th>\n",
       "      <th>duration_min</th>\n",
       "      <th>start_month</th>\n",
       "      <th>start_weekday</th>\n",
       "      <th>start_hour</th>\n",
       "      <th>end_hour</th>\n",
       "    </tr>\n",
       "  </thead>\n",
       "  <tbody>\n",
       "    <tr>\n",
       "      <th>12</th>\n",
       "      <td>2017-12-31 23:52:55.581</td>\n",
       "      <td>2018-01-01 00:29:18.743</td>\n",
       "      <td>67</td>\n",
       "      <td>San Francisco Caltrain Station 2  (Townsend St...</td>\n",
       "      <td>37.776639</td>\n",
       "      <td>-122.395526</td>\n",
       "      <td>24</td>\n",
       "      <td>Spear St at Folsom St</td>\n",
       "      <td>37.789677</td>\n",
       "      <td>-122.390428</td>\n",
       "      <td>2311</td>\n",
       "      <td>Subscriber</td>\n",
       "      <td>Male</td>\n",
       "      <td>27</td>\n",
       "      <td>36</td>\n",
       "      <td>December</td>\n",
       "      <td>Sunday</td>\n",
       "      <td>23</td>\n",
       "      <td>0</td>\n",
       "    </tr>\n",
       "    <tr>\n",
       "      <th>13</th>\n",
       "      <td>2017-12-31 23:52:55.937</td>\n",
       "      <td>2018-01-01 00:29:06.924</td>\n",
       "      <td>67</td>\n",
       "      <td>San Francisco Caltrain Station 2  (Townsend St...</td>\n",
       "      <td>37.776639</td>\n",
       "      <td>-122.395526</td>\n",
       "      <td>24</td>\n",
       "      <td>Spear St at Folsom St</td>\n",
       "      <td>37.789677</td>\n",
       "      <td>-122.390428</td>\n",
       "      <td>3717</td>\n",
       "      <td>Subscriber</td>\n",
       "      <td>Male</td>\n",
       "      <td>27</td>\n",
       "      <td>36</td>\n",
       "      <td>December</td>\n",
       "      <td>Sunday</td>\n",
       "      <td>23</td>\n",
       "      <td>0</td>\n",
       "    </tr>\n",
       "    <tr>\n",
       "      <th>15</th>\n",
       "      <td>2017-12-31 23:53:38.943</td>\n",
       "      <td>2018-01-01 00:19:23.047</td>\n",
       "      <td>14</td>\n",
       "      <td>Clay St at Battery St</td>\n",
       "      <td>37.795001</td>\n",
       "      <td>-122.399970</td>\n",
       "      <td>27</td>\n",
       "      <td>Beale St at Harrison St</td>\n",
       "      <td>37.788059</td>\n",
       "      <td>-122.391865</td>\n",
       "      <td>558</td>\n",
       "      <td>Subscriber</td>\n",
       "      <td>Female</td>\n",
       "      <td>37</td>\n",
       "      <td>25</td>\n",
       "      <td>December</td>\n",
       "      <td>Sunday</td>\n",
       "      <td>23</td>\n",
       "      <td>0</td>\n",
       "    </tr>\n",
       "    <tr>\n",
       "      <th>16</th>\n",
       "      <td>2017-12-31 23:54:40.146</td>\n",
       "      <td>2018-01-01 00:19:14.351</td>\n",
       "      <td>14</td>\n",
       "      <td>Clay St at Battery St</td>\n",
       "      <td>37.795001</td>\n",
       "      <td>-122.399970</td>\n",
       "      <td>27</td>\n",
       "      <td>Beale St at Harrison St</td>\n",
       "      <td>37.788059</td>\n",
       "      <td>-122.391865</td>\n",
       "      <td>3646</td>\n",
       "      <td>Subscriber</td>\n",
       "      <td>Male</td>\n",
       "      <td>38</td>\n",
       "      <td>24</td>\n",
       "      <td>December</td>\n",
       "      <td>Sunday</td>\n",
       "      <td>23</td>\n",
       "      <td>0</td>\n",
       "    </tr>\n",
       "    <tr>\n",
       "      <th>18</th>\n",
       "      <td>2017-12-31 23:52:49.497</td>\n",
       "      <td>2018-01-01 00:18:21.953</td>\n",
       "      <td>78</td>\n",
       "      <td>Folsom St at 9th St</td>\n",
       "      <td>37.773717</td>\n",
       "      <td>-122.411647</td>\n",
       "      <td>15</td>\n",
       "      <td>San Francisco Ferry Building (Harry Bridges Pl...</td>\n",
       "      <td>37.795392</td>\n",
       "      <td>-122.394203</td>\n",
       "      <td>3114</td>\n",
       "      <td>Subscriber</td>\n",
       "      <td>Other</td>\n",
       "      <td>29</td>\n",
       "      <td>25</td>\n",
       "      <td>December</td>\n",
       "      <td>Sunday</td>\n",
       "      <td>23</td>\n",
       "      <td>0</td>\n",
       "    </tr>\n",
       "  </tbody>\n",
       "</table>\n",
       "</div>"
      ],
      "text/plain": [
       "                start_time                end_time start_station_id  \\\n",
       "12 2017-12-31 23:52:55.581 2018-01-01 00:29:18.743               67   \n",
       "13 2017-12-31 23:52:55.937 2018-01-01 00:29:06.924               67   \n",
       "15 2017-12-31 23:53:38.943 2018-01-01 00:19:23.047               14   \n",
       "16 2017-12-31 23:54:40.146 2018-01-01 00:19:14.351               14   \n",
       "18 2017-12-31 23:52:49.497 2018-01-01 00:18:21.953               78   \n",
       "\n",
       "                                   start_station_name  start_station_latitude  \\\n",
       "12  San Francisco Caltrain Station 2  (Townsend St...               37.776639   \n",
       "13  San Francisco Caltrain Station 2  (Townsend St...               37.776639   \n",
       "15                              Clay St at Battery St               37.795001   \n",
       "16                              Clay St at Battery St               37.795001   \n",
       "18                                Folsom St at 9th St               37.773717   \n",
       "\n",
       "    start_station_longitude end_station_id  \\\n",
       "12              -122.395526             24   \n",
       "13              -122.395526             24   \n",
       "15              -122.399970             27   \n",
       "16              -122.399970             27   \n",
       "18              -122.411647             15   \n",
       "\n",
       "                                     end_station_name  end_station_latitude  \\\n",
       "12                              Spear St at Folsom St             37.789677   \n",
       "13                              Spear St at Folsom St             37.789677   \n",
       "15                            Beale St at Harrison St             37.788059   \n",
       "16                            Beale St at Harrison St             37.788059   \n",
       "18  San Francisco Ferry Building (Harry Bridges Pl...             37.795392   \n",
       "\n",
       "    end_station_longitude bike_id   user_type member_gender  member_age  \\\n",
       "12            -122.390428    2311  Subscriber          Male          27   \n",
       "13            -122.390428    3717  Subscriber          Male          27   \n",
       "15            -122.391865     558  Subscriber        Female          37   \n",
       "16            -122.391865    3646  Subscriber          Male          38   \n",
       "18            -122.394203    3114  Subscriber         Other          29   \n",
       "\n",
       "    duration_min start_month start_weekday  start_hour  end_hour  \n",
       "12            36    December        Sunday          23         0  \n",
       "13            36    December        Sunday          23         0  \n",
       "15            25    December        Sunday          23         0  \n",
       "16            24    December        Sunday          23         0  \n",
       "18            25    December        Sunday          23         0  "
      ]
     },
     "execution_count": 40,
     "metadata": {},
     "output_type": "execute_result"
    }
   ],
   "source": [
    "df_clean.head()"
   ]
  },
  {
   "cell_type": "markdown",
   "metadata": {},
   "source": [
    "#### Define:\n",
    "- Change start_month & start_weekday to datatype category."
   ]
  },
  {
   "cell_type": "markdown",
   "metadata": {},
   "source": [
    "#### Code:"
   ]
  },
  {
   "cell_type": "code",
   "execution_count": 41,
   "metadata": {},
   "outputs": [],
   "source": [
    "#Using .astype change start_month & start_weekday to dtype category\n",
    "df_clean.start_month = df_clean.start_month.astype('category')\n",
    "df_clean.start_weekday = df_clean.start_weekday.astype('category')"
   ]
  },
  {
   "cell_type": "markdown",
   "metadata": {},
   "source": [
    "#### Test:"
   ]
  },
  {
   "cell_type": "code",
   "execution_count": 42,
   "metadata": {},
   "outputs": [
    {
     "data": {
      "text/plain": [
       "start_time                 datetime64[ns]\n",
       "end_time                   datetime64[ns]\n",
       "start_station_id                   object\n",
       "start_station_name                 object\n",
       "start_station_latitude            float64\n",
       "start_station_longitude           float64\n",
       "end_station_id                     object\n",
       "end_station_name                   object\n",
       "end_station_latitude              float64\n",
       "end_station_longitude             float64\n",
       "bike_id                            object\n",
       "user_type                        category\n",
       "member_gender                    category\n",
       "member_age                          int64\n",
       "duration_min                        int64\n",
       "start_month                      category\n",
       "start_weekday                    category\n",
       "start_hour                          int64\n",
       "end_hour                            int64\n",
       "dtype: object"
      ]
     },
     "execution_count": 42,
     "metadata": {},
     "output_type": "execute_result"
    }
   ],
   "source": [
    "df_clean.dtypes"
   ]
  },
  {
   "cell_type": "markdown",
   "metadata": {},
   "source": [
    "#### Define:\n",
    "- Calculate trip distance from latitude and longitude and store in new variable dist_miles"
   ]
  },
  {
   "cell_type": "markdown",
   "metadata": {},
   "source": [
    "#### Code:"
   ]
  },
  {
   "cell_type": "code",
   "execution_count": 43,
   "metadata": {},
   "outputs": [],
   "source": [
    "#Write code using math library & haversine method to calculate trip distance from latitude & longitude\n",
    "import math\n",
    "from math import radians, sin, cos, acos\n",
    "\n",
    "def distance(start, end):\n",
    "\n",
    "    lat1, long1 = start\n",
    "    lat2, long2 = end\n",
    "    radius = 6371\n",
    "\n",
    "    dlat = math.radians(lat2 - lat1)\n",
    "    dlong = math.radians(long2 - long1)\n",
    "    \n",
    "    a = (math.sin(dlat / 2) * math.sin(dlat / 2) + math.cos(math.radians(lat1)) * math.cos(math.radians(lat2)) * math.sin(dlong / 2) * math.sin(dlong / 2))\n",
    "    c = 2 * math.atan2(math.sqrt(a), math.sqrt(1 - a))\n",
    "    d = radius * c\n",
    "\n",
    "    return d"
   ]
  },
  {
   "cell_type": "code",
   "execution_count": 44,
   "metadata": {},
   "outputs": [],
   "source": [
    "#Calculate distance in kilometers\n",
    "df_clean['dist_km'] = df_clean.apply(lambda x: distance((x['start_station_latitude'], x['start_station_longitude']), (x['end_station_latitude'], x['end_station_longitude'])), axis=1)"
   ]
  },
  {
   "cell_type": "code",
   "execution_count": 45,
   "metadata": {},
   "outputs": [],
   "source": [
    "# Convert distance in kilometers to miles & round to two decimal places\n",
    "df_clean['dist_miles'] = round(df_clean.dist_km * 0.621371, 2)"
   ]
  },
  {
   "cell_type": "markdown",
   "metadata": {},
   "source": [
    "#### Test:"
   ]
  },
  {
   "cell_type": "code",
   "execution_count": 46,
   "metadata": {},
   "outputs": [
    {
     "data": {
      "text/html": [
       "<div>\n",
       "<style scoped>\n",
       "    .dataframe tbody tr th:only-of-type {\n",
       "        vertical-align: middle;\n",
       "    }\n",
       "\n",
       "    .dataframe tbody tr th {\n",
       "        vertical-align: top;\n",
       "    }\n",
       "\n",
       "    .dataframe thead th {\n",
       "        text-align: right;\n",
       "    }\n",
       "</style>\n",
       "<table border=\"1\" class=\"dataframe\">\n",
       "  <thead>\n",
       "    <tr style=\"text-align: right;\">\n",
       "      <th></th>\n",
       "      <th>start_time</th>\n",
       "      <th>end_time</th>\n",
       "      <th>start_station_id</th>\n",
       "      <th>start_station_name</th>\n",
       "      <th>start_station_latitude</th>\n",
       "      <th>start_station_longitude</th>\n",
       "      <th>end_station_id</th>\n",
       "      <th>end_station_name</th>\n",
       "      <th>end_station_latitude</th>\n",
       "      <th>end_station_longitude</th>\n",
       "      <th>...</th>\n",
       "      <th>user_type</th>\n",
       "      <th>member_gender</th>\n",
       "      <th>member_age</th>\n",
       "      <th>duration_min</th>\n",
       "      <th>start_month</th>\n",
       "      <th>start_weekday</th>\n",
       "      <th>start_hour</th>\n",
       "      <th>end_hour</th>\n",
       "      <th>dist_km</th>\n",
       "      <th>dist_miles</th>\n",
       "    </tr>\n",
       "  </thead>\n",
       "  <tbody>\n",
       "    <tr>\n",
       "      <th>12</th>\n",
       "      <td>2017-12-31 23:52:55.581</td>\n",
       "      <td>2018-01-01 00:29:18.743</td>\n",
       "      <td>67</td>\n",
       "      <td>San Francisco Caltrain Station 2  (Townsend St...</td>\n",
       "      <td>37.776639</td>\n",
       "      <td>-122.395526</td>\n",
       "      <td>24</td>\n",
       "      <td>Spear St at Folsom St</td>\n",
       "      <td>37.789677</td>\n",
       "      <td>-122.390428</td>\n",
       "      <td>...</td>\n",
       "      <td>Subscriber</td>\n",
       "      <td>Male</td>\n",
       "      <td>27</td>\n",
       "      <td>36</td>\n",
       "      <td>December</td>\n",
       "      <td>Sunday</td>\n",
       "      <td>23</td>\n",
       "      <td>0</td>\n",
       "      <td>1.517348</td>\n",
       "      <td>0.94</td>\n",
       "    </tr>\n",
       "    <tr>\n",
       "      <th>13</th>\n",
       "      <td>2017-12-31 23:52:55.937</td>\n",
       "      <td>2018-01-01 00:29:06.924</td>\n",
       "      <td>67</td>\n",
       "      <td>San Francisco Caltrain Station 2  (Townsend St...</td>\n",
       "      <td>37.776639</td>\n",
       "      <td>-122.395526</td>\n",
       "      <td>24</td>\n",
       "      <td>Spear St at Folsom St</td>\n",
       "      <td>37.789677</td>\n",
       "      <td>-122.390428</td>\n",
       "      <td>...</td>\n",
       "      <td>Subscriber</td>\n",
       "      <td>Male</td>\n",
       "      <td>27</td>\n",
       "      <td>36</td>\n",
       "      <td>December</td>\n",
       "      <td>Sunday</td>\n",
       "      <td>23</td>\n",
       "      <td>0</td>\n",
       "      <td>1.517348</td>\n",
       "      <td>0.94</td>\n",
       "    </tr>\n",
       "    <tr>\n",
       "      <th>15</th>\n",
       "      <td>2017-12-31 23:53:38.943</td>\n",
       "      <td>2018-01-01 00:19:23.047</td>\n",
       "      <td>14</td>\n",
       "      <td>Clay St at Battery St</td>\n",
       "      <td>37.795001</td>\n",
       "      <td>-122.399970</td>\n",
       "      <td>27</td>\n",
       "      <td>Beale St at Harrison St</td>\n",
       "      <td>37.788059</td>\n",
       "      <td>-122.391865</td>\n",
       "      <td>...</td>\n",
       "      <td>Subscriber</td>\n",
       "      <td>Female</td>\n",
       "      <td>37</td>\n",
       "      <td>25</td>\n",
       "      <td>December</td>\n",
       "      <td>Sunday</td>\n",
       "      <td>23</td>\n",
       "      <td>0</td>\n",
       "      <td>1.050262</td>\n",
       "      <td>0.65</td>\n",
       "    </tr>\n",
       "    <tr>\n",
       "      <th>16</th>\n",
       "      <td>2017-12-31 23:54:40.146</td>\n",
       "      <td>2018-01-01 00:19:14.351</td>\n",
       "      <td>14</td>\n",
       "      <td>Clay St at Battery St</td>\n",
       "      <td>37.795001</td>\n",
       "      <td>-122.399970</td>\n",
       "      <td>27</td>\n",
       "      <td>Beale St at Harrison St</td>\n",
       "      <td>37.788059</td>\n",
       "      <td>-122.391865</td>\n",
       "      <td>...</td>\n",
       "      <td>Subscriber</td>\n",
       "      <td>Male</td>\n",
       "      <td>38</td>\n",
       "      <td>24</td>\n",
       "      <td>December</td>\n",
       "      <td>Sunday</td>\n",
       "      <td>23</td>\n",
       "      <td>0</td>\n",
       "      <td>1.050262</td>\n",
       "      <td>0.65</td>\n",
       "    </tr>\n",
       "    <tr>\n",
       "      <th>18</th>\n",
       "      <td>2017-12-31 23:52:49.497</td>\n",
       "      <td>2018-01-01 00:18:21.953</td>\n",
       "      <td>78</td>\n",
       "      <td>Folsom St at 9th St</td>\n",
       "      <td>37.773717</td>\n",
       "      <td>-122.411647</td>\n",
       "      <td>15</td>\n",
       "      <td>San Francisco Ferry Building (Harry Bridges Pl...</td>\n",
       "      <td>37.795392</td>\n",
       "      <td>-122.394203</td>\n",
       "      <td>...</td>\n",
       "      <td>Subscriber</td>\n",
       "      <td>Other</td>\n",
       "      <td>29</td>\n",
       "      <td>25</td>\n",
       "      <td>December</td>\n",
       "      <td>Sunday</td>\n",
       "      <td>23</td>\n",
       "      <td>0</td>\n",
       "      <td>2.856333</td>\n",
       "      <td>1.77</td>\n",
       "    </tr>\n",
       "  </tbody>\n",
       "</table>\n",
       "<p>5 rows × 21 columns</p>\n",
       "</div>"
      ],
      "text/plain": [
       "                start_time                end_time start_station_id  \\\n",
       "12 2017-12-31 23:52:55.581 2018-01-01 00:29:18.743               67   \n",
       "13 2017-12-31 23:52:55.937 2018-01-01 00:29:06.924               67   \n",
       "15 2017-12-31 23:53:38.943 2018-01-01 00:19:23.047               14   \n",
       "16 2017-12-31 23:54:40.146 2018-01-01 00:19:14.351               14   \n",
       "18 2017-12-31 23:52:49.497 2018-01-01 00:18:21.953               78   \n",
       "\n",
       "                                   start_station_name  start_station_latitude  \\\n",
       "12  San Francisco Caltrain Station 2  (Townsend St...               37.776639   \n",
       "13  San Francisco Caltrain Station 2  (Townsend St...               37.776639   \n",
       "15                              Clay St at Battery St               37.795001   \n",
       "16                              Clay St at Battery St               37.795001   \n",
       "18                                Folsom St at 9th St               37.773717   \n",
       "\n",
       "    start_station_longitude end_station_id  \\\n",
       "12              -122.395526             24   \n",
       "13              -122.395526             24   \n",
       "15              -122.399970             27   \n",
       "16              -122.399970             27   \n",
       "18              -122.411647             15   \n",
       "\n",
       "                                     end_station_name  end_station_latitude  \\\n",
       "12                              Spear St at Folsom St             37.789677   \n",
       "13                              Spear St at Folsom St             37.789677   \n",
       "15                            Beale St at Harrison St             37.788059   \n",
       "16                            Beale St at Harrison St             37.788059   \n",
       "18  San Francisco Ferry Building (Harry Bridges Pl...             37.795392   \n",
       "\n",
       "    end_station_longitude  ...   user_type member_gender member_age  \\\n",
       "12            -122.390428  ...  Subscriber          Male         27   \n",
       "13            -122.390428  ...  Subscriber          Male         27   \n",
       "15            -122.391865  ...  Subscriber        Female         37   \n",
       "16            -122.391865  ...  Subscriber          Male         38   \n",
       "18            -122.394203  ...  Subscriber         Other         29   \n",
       "\n",
       "    duration_min  start_month start_weekday start_hour  end_hour   dist_km  \\\n",
       "12            36     December        Sunday         23         0  1.517348   \n",
       "13            36     December        Sunday         23         0  1.517348   \n",
       "15            25     December        Sunday         23         0  1.050262   \n",
       "16            24     December        Sunday         23         0  1.050262   \n",
       "18            25     December        Sunday         23         0  2.856333   \n",
       "\n",
       "    dist_miles  \n",
       "12        0.94  \n",
       "13        0.94  \n",
       "15        0.65  \n",
       "16        0.65  \n",
       "18        1.77  \n",
       "\n",
       "[5 rows x 21 columns]"
      ]
     },
     "execution_count": 46,
     "metadata": {},
     "output_type": "execute_result"
    }
   ],
   "source": [
    "#Examine first 5 rows of data to determine if new variable dist_miles was created\n",
    "df_clean.head()"
   ]
  },
  {
   "cell_type": "markdown",
   "metadata": {},
   "source": [
    "#### Define:\n",
    "- Remove outliers in the variable dist_miles"
   ]
  },
  {
   "cell_type": "markdown",
   "metadata": {},
   "source": [
    "#### Code:\n"
   ]
  },
  {
   "cell_type": "code",
   "execution_count": 47,
   "metadata": {},
   "outputs": [
    {
     "data": {
      "text/plain": [
       "count    444745.000000\n",
       "mean          0.995968\n",
       "std           0.602060\n",
       "min           0.000000\n",
       "25%           0.570000\n",
       "50%           0.880000\n",
       "75%           1.290000\n",
       "max          10.650000\n",
       "Name: dist_miles, dtype: float64"
      ]
     },
     "execution_count": 47,
     "metadata": {},
     "output_type": "execute_result"
    }
   ],
   "source": [
    "#Examine range of values for dist_miles\n",
    "df_clean.dist_miles.describe()"
   ]
  },
  {
   "cell_type": "code",
   "execution_count": 48,
   "metadata": {},
   "outputs": [
    {
     "data": {
      "text/plain": [
       "count    444745.000000\n",
       "mean          0.995968\n",
       "std           0.602060\n",
       "min           0.000000\n",
       "50%           0.880000\n",
       "99%           2.910000\n",
       "max          10.650000\n",
       "Name: dist_miles, dtype: float64"
      ]
     },
     "execution_count": 48,
     "metadata": {},
     "output_type": "execute_result"
    }
   ],
   "source": [
    "#Calculate percentiles for dist_miles\n",
    "df_clean.dist_miles.describe(percentiles = [.99])"
   ]
  },
  {
   "cell_type": "code",
   "execution_count": 49,
   "metadata": {},
   "outputs": [],
   "source": [
    "#Remove bikeshare data for trips longer than 3 miles.\n",
    "df_clean = df_clean.query('dist_miles <= 3')"
   ]
  },
  {
   "cell_type": "markdown",
   "metadata": {},
   "source": [
    "#### Test:"
   ]
  },
  {
   "cell_type": "code",
   "execution_count": 50,
   "metadata": {},
   "outputs": [
    {
     "data": {
      "text/plain": [
       "count    441249.000000\n",
       "mean          0.976568\n",
       "std           0.561434\n",
       "min           0.000000\n",
       "25%           0.570000\n",
       "50%           0.870000\n",
       "75%           1.280000\n",
       "max           3.000000\n",
       "Name: dist_miles, dtype: float64"
      ]
     },
     "execution_count": 50,
     "metadata": {},
     "output_type": "execute_result"
    }
   ],
   "source": [
    "df_clean.dist_miles.describe()"
   ]
  },
  {
   "cell_type": "code",
   "execution_count": 51,
   "metadata": {},
   "outputs": [
    {
     "name": "stdout",
     "output_type": "stream",
     "text": [
      "0.00    8947\n",
      "0.96    6928\n",
      "1.05    6827\n",
      "0.64    6550\n",
      "0.81    5820\n",
      "0.88    5649\n",
      "0.76    5454\n",
      "0.85    5376\n",
      "0.47    5361\n",
      "0.67    5285\n",
      "1.35    4767\n",
      "0.44    4565\n",
      "0.58    4515\n",
      "0.94    4510\n",
      "0.74    4477\n",
      "0.72    4475\n",
      "0.39    4303\n",
      "0.65    4213\n",
      "0.48    4176\n",
      "0.49    4167\n",
      "1.30    4155\n",
      "0.53    4098\n",
      "1.14    4090\n",
      "0.86    4015\n",
      "0.68    3993\n",
      "0.57    3913\n",
      "0.41    3829\n",
      "0.83    3779\n",
      "0.70    3723\n",
      "0.63    3704\n",
      "        ... \n",
      "2.92     142\n",
      "2.55     140\n",
      "2.91     139\n",
      "2.66     132\n",
      "2.72     128\n",
      "2.89     126\n",
      "2.65     124\n",
      "2.85     122\n",
      "2.83     118\n",
      "2.79     115\n",
      "2.60     115\n",
      "2.97     113\n",
      "2.93     109\n",
      "2.81     103\n",
      "2.45     100\n",
      "2.90      83\n",
      "2.82      74\n",
      "3.00      73\n",
      "2.86      67\n",
      "0.12      66\n",
      "2.75      65\n",
      "2.73      63\n",
      "0.09      53\n",
      "0.10      44\n",
      "0.11      44\n",
      "2.95      34\n",
      "2.96      29\n",
      "0.01      22\n",
      "2.99      17\n",
      "0.08       7\n",
      "Name: dist_miles, Length: 295, dtype: int64\n"
     ]
    }
   ],
   "source": [
    "print(df_clean.dist_miles.value_counts())"
   ]
  },
  {
   "cell_type": "markdown",
   "metadata": {},
   "source": [
    "#### Define:\n",
    "- Remove remainder of variables not going to be used for analysis\n",
    "  - start_time, end_time, start_station_name, start_station_latitude, start_station_longitude, end_station_name, end_station_longitude, end_station_latitude, dist_km"
   ]
  },
  {
   "cell_type": "markdown",
   "metadata": {},
   "source": [
    "#### Code:"
   ]
  },
  {
   "cell_type": "code",
   "execution_count": 52,
   "metadata": {},
   "outputs": [],
   "source": [
    "#Remove duration_sec from df_clean.\n",
    "df_clean.drop(['start_time', 'end_time', 'start_station_latitude', 'start_station_longitude', 'end_station_latitude', 'end_station_longitude', 'dist_km'], axis=1, inplace=True)"
   ]
  },
  {
   "cell_type": "markdown",
   "metadata": {},
   "source": [
    "#### Test:"
   ]
  },
  {
   "cell_type": "code",
   "execution_count": 53,
   "metadata": {},
   "outputs": [
    {
     "data": {
      "text/html": [
       "<div>\n",
       "<style scoped>\n",
       "    .dataframe tbody tr th:only-of-type {\n",
       "        vertical-align: middle;\n",
       "    }\n",
       "\n",
       "    .dataframe tbody tr th {\n",
       "        vertical-align: top;\n",
       "    }\n",
       "\n",
       "    .dataframe thead th {\n",
       "        text-align: right;\n",
       "    }\n",
       "</style>\n",
       "<table border=\"1\" class=\"dataframe\">\n",
       "  <thead>\n",
       "    <tr style=\"text-align: right;\">\n",
       "      <th></th>\n",
       "      <th>start_station_id</th>\n",
       "      <th>start_station_name</th>\n",
       "      <th>end_station_id</th>\n",
       "      <th>end_station_name</th>\n",
       "      <th>bike_id</th>\n",
       "      <th>user_type</th>\n",
       "      <th>member_gender</th>\n",
       "      <th>member_age</th>\n",
       "      <th>duration_min</th>\n",
       "      <th>start_month</th>\n",
       "      <th>start_weekday</th>\n",
       "      <th>start_hour</th>\n",
       "      <th>end_hour</th>\n",
       "      <th>dist_miles</th>\n",
       "    </tr>\n",
       "  </thead>\n",
       "  <tbody>\n",
       "    <tr>\n",
       "      <th>12</th>\n",
       "      <td>67</td>\n",
       "      <td>San Francisco Caltrain Station 2  (Townsend St...</td>\n",
       "      <td>24</td>\n",
       "      <td>Spear St at Folsom St</td>\n",
       "      <td>2311</td>\n",
       "      <td>Subscriber</td>\n",
       "      <td>Male</td>\n",
       "      <td>27</td>\n",
       "      <td>36</td>\n",
       "      <td>December</td>\n",
       "      <td>Sunday</td>\n",
       "      <td>23</td>\n",
       "      <td>0</td>\n",
       "      <td>0.94</td>\n",
       "    </tr>\n",
       "    <tr>\n",
       "      <th>13</th>\n",
       "      <td>67</td>\n",
       "      <td>San Francisco Caltrain Station 2  (Townsend St...</td>\n",
       "      <td>24</td>\n",
       "      <td>Spear St at Folsom St</td>\n",
       "      <td>3717</td>\n",
       "      <td>Subscriber</td>\n",
       "      <td>Male</td>\n",
       "      <td>27</td>\n",
       "      <td>36</td>\n",
       "      <td>December</td>\n",
       "      <td>Sunday</td>\n",
       "      <td>23</td>\n",
       "      <td>0</td>\n",
       "      <td>0.94</td>\n",
       "    </tr>\n",
       "    <tr>\n",
       "      <th>15</th>\n",
       "      <td>14</td>\n",
       "      <td>Clay St at Battery St</td>\n",
       "      <td>27</td>\n",
       "      <td>Beale St at Harrison St</td>\n",
       "      <td>558</td>\n",
       "      <td>Subscriber</td>\n",
       "      <td>Female</td>\n",
       "      <td>37</td>\n",
       "      <td>25</td>\n",
       "      <td>December</td>\n",
       "      <td>Sunday</td>\n",
       "      <td>23</td>\n",
       "      <td>0</td>\n",
       "      <td>0.65</td>\n",
       "    </tr>\n",
       "    <tr>\n",
       "      <th>16</th>\n",
       "      <td>14</td>\n",
       "      <td>Clay St at Battery St</td>\n",
       "      <td>27</td>\n",
       "      <td>Beale St at Harrison St</td>\n",
       "      <td>3646</td>\n",
       "      <td>Subscriber</td>\n",
       "      <td>Male</td>\n",
       "      <td>38</td>\n",
       "      <td>24</td>\n",
       "      <td>December</td>\n",
       "      <td>Sunday</td>\n",
       "      <td>23</td>\n",
       "      <td>0</td>\n",
       "      <td>0.65</td>\n",
       "    </tr>\n",
       "    <tr>\n",
       "      <th>18</th>\n",
       "      <td>78</td>\n",
       "      <td>Folsom St at 9th St</td>\n",
       "      <td>15</td>\n",
       "      <td>San Francisco Ferry Building (Harry Bridges Pl...</td>\n",
       "      <td>3114</td>\n",
       "      <td>Subscriber</td>\n",
       "      <td>Other</td>\n",
       "      <td>29</td>\n",
       "      <td>25</td>\n",
       "      <td>December</td>\n",
       "      <td>Sunday</td>\n",
       "      <td>23</td>\n",
       "      <td>0</td>\n",
       "      <td>1.77</td>\n",
       "    </tr>\n",
       "  </tbody>\n",
       "</table>\n",
       "</div>"
      ],
      "text/plain": [
       "   start_station_id                                 start_station_name  \\\n",
       "12               67  San Francisco Caltrain Station 2  (Townsend St...   \n",
       "13               67  San Francisco Caltrain Station 2  (Townsend St...   \n",
       "15               14                              Clay St at Battery St   \n",
       "16               14                              Clay St at Battery St   \n",
       "18               78                                Folsom St at 9th St   \n",
       "\n",
       "   end_station_id                                   end_station_name bike_id  \\\n",
       "12             24                              Spear St at Folsom St    2311   \n",
       "13             24                              Spear St at Folsom St    3717   \n",
       "15             27                            Beale St at Harrison St     558   \n",
       "16             27                            Beale St at Harrison St    3646   \n",
       "18             15  San Francisco Ferry Building (Harry Bridges Pl...    3114   \n",
       "\n",
       "     user_type member_gender  member_age  duration_min start_month  \\\n",
       "12  Subscriber          Male          27            36    December   \n",
       "13  Subscriber          Male          27            36    December   \n",
       "15  Subscriber        Female          37            25    December   \n",
       "16  Subscriber          Male          38            24    December   \n",
       "18  Subscriber         Other          29            25    December   \n",
       "\n",
       "   start_weekday  start_hour  end_hour  dist_miles  \n",
       "12        Sunday          23         0        0.94  \n",
       "13        Sunday          23         0        0.94  \n",
       "15        Sunday          23         0        0.65  \n",
       "16        Sunday          23         0        0.65  \n",
       "18        Sunday          23         0        1.77  "
      ]
     },
     "execution_count": 53,
     "metadata": {},
     "output_type": "execute_result"
    }
   ],
   "source": [
    "df_clean.head()"
   ]
  },
  {
   "cell_type": "code",
   "execution_count": 54,
   "metadata": {},
   "outputs": [
    {
     "data": {
      "text/html": [
       "<div>\n",
       "<style scoped>\n",
       "    .dataframe tbody tr th:only-of-type {\n",
       "        vertical-align: middle;\n",
       "    }\n",
       "\n",
       "    .dataframe tbody tr th {\n",
       "        vertical-align: top;\n",
       "    }\n",
       "\n",
       "    .dataframe thead th {\n",
       "        text-align: right;\n",
       "    }\n",
       "</style>\n",
       "<table border=\"1\" class=\"dataframe\">\n",
       "  <thead>\n",
       "    <tr style=\"text-align: right;\">\n",
       "      <th></th>\n",
       "      <th>member_age</th>\n",
       "      <th>duration_min</th>\n",
       "      <th>start_hour</th>\n",
       "      <th>end_hour</th>\n",
       "      <th>dist_miles</th>\n",
       "    </tr>\n",
       "  </thead>\n",
       "  <tbody>\n",
       "    <tr>\n",
       "      <th>count</th>\n",
       "      <td>441249.000000</td>\n",
       "      <td>441249.000000</td>\n",
       "      <td>441249.000000</td>\n",
       "      <td>441249.00000</td>\n",
       "      <td>441249.000000</td>\n",
       "    </tr>\n",
       "    <tr>\n",
       "      <th>mean</th>\n",
       "      <td>36.256157</td>\n",
       "      <td>10.439280</td>\n",
       "      <td>13.398476</td>\n",
       "      <td>13.54898</td>\n",
       "      <td>0.976568</td>\n",
       "    </tr>\n",
       "    <tr>\n",
       "      <th>std</th>\n",
       "      <td>9.811091</td>\n",
       "      <td>7.559895</td>\n",
       "      <td>4.680781</td>\n",
       "      <td>4.69536</td>\n",
       "      <td>0.561434</td>\n",
       "    </tr>\n",
       "    <tr>\n",
       "      <th>min</th>\n",
       "      <td>18.000000</td>\n",
       "      <td>1.000000</td>\n",
       "      <td>0.000000</td>\n",
       "      <td>0.00000</td>\n",
       "      <td>0.000000</td>\n",
       "    </tr>\n",
       "    <tr>\n",
       "      <th>25%</th>\n",
       "      <td>29.000000</td>\n",
       "      <td>6.000000</td>\n",
       "      <td>9.000000</td>\n",
       "      <td>9.00000</td>\n",
       "      <td>0.570000</td>\n",
       "    </tr>\n",
       "    <tr>\n",
       "      <th>50%</th>\n",
       "      <td>34.000000</td>\n",
       "      <td>9.000000</td>\n",
       "      <td>14.000000</td>\n",
       "      <td>14.00000</td>\n",
       "      <td>0.870000</td>\n",
       "    </tr>\n",
       "    <tr>\n",
       "      <th>75%</th>\n",
       "      <td>42.000000</td>\n",
       "      <td>13.000000</td>\n",
       "      <td>17.000000</td>\n",
       "      <td>17.00000</td>\n",
       "      <td>1.280000</td>\n",
       "    </tr>\n",
       "    <tr>\n",
       "      <th>max</th>\n",
       "      <td>66.000000</td>\n",
       "      <td>74.000000</td>\n",
       "      <td>23.000000</td>\n",
       "      <td>23.00000</td>\n",
       "      <td>3.000000</td>\n",
       "    </tr>\n",
       "  </tbody>\n",
       "</table>\n",
       "</div>"
      ],
      "text/plain": [
       "          member_age   duration_min     start_hour      end_hour  \\\n",
       "count  441249.000000  441249.000000  441249.000000  441249.00000   \n",
       "mean       36.256157      10.439280      13.398476      13.54898   \n",
       "std         9.811091       7.559895       4.680781       4.69536   \n",
       "min        18.000000       1.000000       0.000000       0.00000   \n",
       "25%        29.000000       6.000000       9.000000       9.00000   \n",
       "50%        34.000000       9.000000      14.000000      14.00000   \n",
       "75%        42.000000      13.000000      17.000000      17.00000   \n",
       "max        66.000000      74.000000      23.000000      23.00000   \n",
       "\n",
       "          dist_miles  \n",
       "count  441249.000000  \n",
       "mean        0.976568  \n",
       "std         0.561434  \n",
       "min         0.000000  \n",
       "25%         0.570000  \n",
       "50%         0.870000  \n",
       "75%         1.280000  \n",
       "max         3.000000  "
      ]
     },
     "execution_count": 54,
     "metadata": {},
     "output_type": "execute_result"
    }
   ],
   "source": [
    "df_clean.describe()"
   ]
  },
  {
   "cell_type": "code",
   "execution_count": 55,
   "metadata": {},
   "outputs": [
    {
     "data": {
      "text/plain": [
       "start_station_id        object\n",
       "start_station_name      object\n",
       "end_station_id          object\n",
       "end_station_name        object\n",
       "bike_id                 object\n",
       "user_type             category\n",
       "member_gender         category\n",
       "member_age               int64\n",
       "duration_min             int64\n",
       "start_month           category\n",
       "start_weekday         category\n",
       "start_hour               int64\n",
       "end_hour                 int64\n",
       "dist_miles             float64\n",
       "dtype: object"
      ]
     },
     "execution_count": 55,
     "metadata": {},
     "output_type": "execute_result"
    }
   ],
   "source": [
    "df_clean.dtypes"
   ]
  },
  {
   "cell_type": "markdown",
   "metadata": {},
   "source": [
    "### What is the structure of your dataset?\n",
    "\n",
    "> This dataset is comprised of data collected on 441,249 customer trips taken utilizing Ford's GoBike system in the year 2017 in the greater San Francisco Bay area of California. There are 12 variables to explore after cleaning the datatset. They are: start_station_id, end_station_id, bike_id, user_type, member_gender, member_age, duration_min, start_month, start_weekday, start_hour, end_hour and dist_miles. The variables start_station_id, end_station_id and bike_id are all objects. Whereas, the variables user_type, member_gender, start_month and start_weekday, are categories. The integer variables are: member_age, duration_min, start_hour and end_hour. The only variable that is a float is dist_miles.    \n",
    "\n",
    "### What is/are the main feature(s) of interest in your dataset?\n",
    "\n",
    "> The main features of interest in the Ford GoBike dataset is to evaluate whether usage is dependent on certain features such as: age, gender, day of the week, hour of the day, month of the year, being a GoBike subscriber, duration of trip, miles traveled, start station or end station.\n",
    "\n",
    "### What features in the dataset do you think will help support your investigation into your feature(s) of interest?\n",
    "\n",
    "> I expect that age, day of the week, month of the year, being a GoBike subscriber will have the greatest influence on usage of Ford's GoBike System."
   ]
  },
  {
   "cell_type": "markdown",
   "metadata": {},
   "source": [
    "<a id = 'store'></a>\n",
    "## Store Dataframe"
   ]
  },
  {
   "cell_type": "code",
   "execution_count": 56,
   "metadata": {},
   "outputs": [],
   "source": [
    "#Store cleaned dataframe to csv\n",
    "df_clean.to_csv('df_clean_master.csv', encoding='utf-8',index=False)"
   ]
  },
  {
   "cell_type": "markdown",
   "metadata": {},
   "source": [
    "<a id = 'analyze'></a>\n",
    "## Analyze"
   ]
  },
  {
   "cell_type": "markdown",
   "metadata": {},
   "source": [
    "<a id = 'univariate'></a>\n",
    "### Univariate Exploration\n",
    "\n",
    "> In this section, investigate distributions of individual variables. If\n",
    "you see unusual points or outliers, take a deeper look to clean things up\n",
    "and prepare yourself to look at relationships between variables."
   ]
  },
  {
   "cell_type": "code",
   "execution_count": 57,
   "metadata": {},
   "outputs": [],
   "source": [
    "#Set the default color to one color\n",
    "base_color = sb.color_palette()[0]"
   ]
  },
  {
   "cell_type": "code",
   "execution_count": 58,
   "metadata": {},
   "outputs": [
    {
     "data": {
      "text/plain": [
       "count    441249.000000\n",
       "mean         36.256157\n",
       "std           9.811091\n",
       "min          18.000000\n",
       "25%          29.000000\n",
       "50%          34.000000\n",
       "75%          42.000000\n",
       "max          66.000000\n",
       "Name: member_age, dtype: float64"
      ]
     },
     "execution_count": 58,
     "metadata": {},
     "output_type": "execute_result"
    }
   ],
   "source": [
    "#Descriptive statistics for member_age\n",
    "df_clean.member_age.describe()"
   ]
  },
  {
   "cell_type": "code",
   "execution_count": 59,
   "metadata": {},
   "outputs": [
    {
     "data": {
      "image/png": "[encoded data removed]",
      "text/plain": [
       "<Figure size 432x288 with 1 Axes>"
      ]
     },
     "metadata": {
      "needs_background": "light"
     },
     "output_type": "display_data"
    }
   ],
   "source": [
    "#Histogram of usage in relation to member_age\n",
    "bin_edges = np.arange(18, df_clean['member_age'].max()+1, 3)\n",
    "plt.hist(data = df_clean, x = 'member_age', bins = bin_edges);\n",
    "plt.title(\"2017 Ford GoBike System Usage by Age\", fontsize=20)\n",
    "plt.xlabel('User Age (Years)')\n",
    "plt.ylabel('Number of Trips');"
   ]
  },
  {
   "cell_type": "markdown",
   "metadata": {},
   "source": [
    "###### Univariate Observation 1:\n",
    "The average age of the Ford GoBike System user in 2017 is 36 years old. Usage trails off fairly steadily after 45 years of age. The youngest user is 18 years old and the oldest 66 years old.  The next variable to be explored is gender."
   ]
  },
  {
   "cell_type": "code",
   "execution_count": 60,
   "metadata": {},
   "outputs": [
    {
     "data": {
      "text/plain": [
       "Male      339681\n",
       "Female     95567\n",
       "Other       6001\n",
       "Name: member_gender, dtype: int64"
      ]
     },
     "execution_count": 60,
     "metadata": {},
     "output_type": "execute_result"
    }
   ],
   "source": [
    "#Value_counts for gender\n",
    "df_clean.member_gender.value_counts()"
   ]
  },
  {
   "cell_type": "code",
   "execution_count": 61,
   "metadata": {},
   "outputs": [
    {
     "data": {
      "image/png": "[encoded data removed]",
      "text/plain": [
       "<Figure size 432x288 with 1 Axes>"
      ]
     },
     "metadata": {},
     "output_type": "display_data"
    }
   ],
   "source": [
    "#Pie chart of usage by gender\n",
    "sorted_counts = df_clean['member_gender'].value_counts()\n",
    "plt.pie(sorted_counts, labels = sorted_counts.index, startangle = 90,\n",
    "        counterclock = False, autopct='%.2f');\n",
    "plt.axis('square');\n",
    "plt.title(\"2017 Ford GoBike System Usage by Gender\", fontsize=15)\n",
    "plt.show();"
   ]
  },
  {
   "cell_type": "markdown",
   "metadata": {},
   "source": [
    "###### Univariate Observation 2:\n",
    "76.98% of the Ford GoBike System users in 2017 were male, 21.66% were female and 1.36% identified as other. Any analysis based on gender should be made carefully, since the majority of the bike-share users were male. The next analysis will focus on bike-share usage by day of the week."
   ]
  },
  {
   "cell_type": "code",
   "execution_count": 62,
   "metadata": {},
   "outputs": [
    {
     "data": {
      "text/plain": [
       "Tuesday      78585\n",
       "Wednesday    78516\n",
       "Thursday     75277\n",
       "Monday       71889\n",
       "Friday       70276\n",
       "Saturday     35261\n",
       "Sunday       31445\n",
       "Name: start_weekday, dtype: int64"
      ]
     },
     "execution_count": 62,
     "metadata": {},
     "output_type": "execute_result"
    }
   ],
   "source": [
    "#Counts of usage by day of the week\n",
    "df_clean.start_weekday.value_counts()"
   ]
  },
  {
   "cell_type": "code",
   "execution_count": 63,
   "metadata": {},
   "outputs": [
    {
     "data": {
      "image/png": "[encoded data removed]",
      "text/plain": [
       "<Figure size 360x360 with 1 Axes>"
      ]
     },
     "metadata": {
      "needs_background": "light"
     },
     "output_type": "display_data"
    }
   ],
   "source": [
    "#Categorical bar chart of usage by day of the week.\n",
    "weekday = ['Monday', 'Tuesday', 'Wednesday', 'Thursday',  'Friday', 'Saturday', 'Sunday']\n",
    "graph = sb.catplot(data=df_clean, x='start_weekday', kind='count', color = base_color, order = weekday)\n",
    "graph.set_axis_labels('Weekdays', 'Number of Bike Trips')\n",
    "graph.fig.suptitle('2017 Ford GoBike Usage by Weekday', y=1.05, fontsize=20);\n",
    "graph.set_xticklabels(rotation=75);"
   ]
  },
  {
   "cell_type": "markdown",
   "metadata": {},
   "source": [
    "###### Univariate Observation 3:\n",
    "It appears that the majority of the bike-share usage occurs during the week, with highest use on Tuesday and Wednesday. The usage drops off drastically on Saturday's and Sunday's. This seems to suggest that the bikes are used for workday commuting. However, a bivariate analysis of hour of the day and weekday, will have to be conducted to verify if the bikes are being used during normal United States workday commute hours. The next plot will look at usage by the hour of the day."
   ]
  },
  {
   "cell_type": "code",
   "execution_count": 64,
   "metadata": {},
   "outputs": [
    {
     "data": {
      "text/plain": [
       "8     53639\n",
       "17    53378\n",
       "9     41128\n",
       "18    40836\n",
       "16    34596\n",
       "7     25122\n",
       "19    23127\n",
       "15    21820\n",
       "12    20950\n",
       "13    20357\n",
       "10    20154\n",
       "11    18329\n",
       "14    18223\n",
       "20    14368\n",
       "21    10182\n",
       "6      8288\n",
       "22     6544\n",
       "23     3946\n",
       "0      2060\n",
       "5      1873\n",
       "1      1011\n",
       "2       569\n",
       "4       504\n",
       "3       245\n",
       "Name: start_hour, dtype: int64"
      ]
     },
     "execution_count": 64,
     "metadata": {},
     "output_type": "execute_result"
    }
   ],
   "source": [
    "#Counts of usage by hour of the day\n",
    "df_clean.start_hour.value_counts()"
   ]
  },
  {
   "cell_type": "code",
   "execution_count": 65,
   "metadata": {},
   "outputs": [
    {
     "data": {
      "image/png": "[encoded data removed]",
      "text/plain": [
       "<Figure size 360x360 with 1 Axes>"
      ]
     },
     "metadata": {
      "needs_background": "light"
     },
     "output_type": "display_data"
    }
   ],
   "source": [
    "#Categorical bar chart showing usage by hour of the day\n",
    "graph = sb.catplot(data = df_clean, x='start_hour', kind='count', color = base_color)\n",
    "graph.set_axis_labels('Hour of the Day', 'Number of Bike Trips')\n",
    "graph.fig.suptitle('2017 Ford GoBike System Usage by Hour of the Day', y=1.05, fontsize=20);"
   ]
  },
  {
   "cell_type": "markdown",
   "metadata": {},
   "source": [
    "###### Univariate Observation 4:\n",
    "The usage of the bike-share system seems to occur mostly during the hours associated with the workday commute in the United States. The highest usage in the morning is at 8AM and in the afternoon at 5pm. This may suggest that the bike-share system is being used by people to commute to and from work. A bivariate exploration by weekday and hour of the day should be performed to confirm this hypothesis. An analysis of usage by month will be explored next."
   ]
  },
  {
   "cell_type": "code",
   "execution_count": 66,
   "metadata": {},
   "outputs": [
    {
     "data": {
      "text/plain": [
       "October      92919\n",
       "November     84118\n",
       "September    83060\n",
       "December     76317\n",
       "August       67771\n",
       "July         34729\n",
       "June          2335\n",
       "Name: start_month, dtype: int64"
      ]
     },
     "execution_count": 66,
     "metadata": {},
     "output_type": "execute_result"
    }
   ],
   "source": [
    "#Counts of usage by month of the year\n",
    "df_clean.start_month.value_counts()"
   ]
  },
  {
   "cell_type": "code",
   "execution_count": 67,
   "metadata": {},
   "outputs": [
    {
     "data": {
      "image/png": "[encoded data removed]",
      "text/plain": [
       "<Figure size 360x360 with 1 Axes>"
      ]
     },
     "metadata": {
      "needs_background": "light"
     },
     "output_type": "display_data"
    }
   ],
   "source": [
    "#Categorical bar chart of usage by month\n",
    "month = ['June', 'July', 'August', 'September',  'October', 'November', 'December']\n",
    "graph = sb.catplot(data=df_clean, x='start_month', kind='count', color = base_color, order = month)\n",
    "graph.set_axis_labels('Month', 'Number of Bike Trips')\n",
    "graph.fig.suptitle('2017 Ford GoBike Usage by Month', y=1.05, fontsize=20);\n",
    "graph.set_xticklabels(rotation=75);"
   ]
  },
  {
   "cell_type": "markdown",
   "metadata": {},
   "source": [
    "###### Univariate Observation 5:\n",
    "The bikeshare data for 2017 only encompasses data from June to December. This analysis shows that the bike-share sytem was used most frequently in the months associated with fall in the United States. The highest usage overall was in October. In the next analysis, usage by type of user will be investigated."
   ]
  },
  {
   "cell_type": "code",
   "execution_count": 68,
   "metadata": {},
   "outputs": [
    {
     "data": {
      "text/plain": [
       "Subscriber    396005\n",
       "Customer       45244\n",
       "Name: user_type, dtype: int64"
      ]
     },
     "execution_count": 68,
     "metadata": {},
     "output_type": "execute_result"
    }
   ],
   "source": [
    "#Counts of usage by subscription status\n",
    "df_clean.user_type.value_counts()"
   ]
  },
  {
   "cell_type": "code",
   "execution_count": 69,
   "metadata": {},
   "outputs": [
    {
     "data": {
      "image/png": "[encoded data removed]",
      "text/plain": [
       "<Figure size 360x360 with 1 Axes>"
      ]
     },
     "metadata": {
      "needs_background": "light"
     },
     "output_type": "display_data"
    }
   ],
   "source": [
    "#Categorical bar chart of usage by user type\n",
    "graph = sb.catplot(data = df_clean, x='user_type', kind='count', color = base_color)\n",
    "graph.set_axis_labels('User Type', 'Number of Bike Trips')\n",
    "graph.fig.suptitle('2017 Ford GoBike System Usage User Type', y=1.05, fontsize=16, fontweight='bold');"
   ]
  },
  {
   "cell_type": "markdown",
   "metadata": {},
   "source": [
    "###### Univariate Observation 6:\n",
    "The typical user of the bike-share is a subscriber to Ford's GoBike System. This suggests that users of this system are using the service frequently enough that they have paid the subscription fee, rather than pay for each use individually. Usage by trip duration will be considered next."
   ]
  },
  {
   "cell_type": "code",
   "execution_count": 70,
   "metadata": {},
   "outputs": [
    {
     "data": {
      "text/plain": [
       "count    441249.000000\n",
       "mean         10.439280\n",
       "std           7.559895\n",
       "min           1.000000\n",
       "25%           6.000000\n",
       "50%           9.000000\n",
       "75%          13.000000\n",
       "max          74.000000\n",
       "Name: duration_min, dtype: float64"
      ]
     },
     "execution_count": 70,
     "metadata": {},
     "output_type": "execute_result"
    }
   ],
   "source": [
    "#Descriptive statistics for duration of trip in minutes\n",
    "df_clean.duration_min.describe()"
   ]
  },
  {
   "cell_type": "code",
   "execution_count": 71,
   "metadata": {},
   "outputs": [
    {
     "data": {
      "image/png": "[encoded data removed]",
      "text/plain": [
       "<Figure size 432x288 with 1 Axes>"
      ]
     },
     "metadata": {
      "needs_background": "light"
     },
     "output_type": "display_data"
    }
   ],
   "source": [
    "#Histogram of usage in relation to duration of trip in minutes\n",
    "bin_edges = np.arange(1, df_clean['duration_min'].max()+1, 2)\n",
    "plt.hist(data = df_clean, x = 'duration_min', bins = bin_edges);\n",
    "plt.title(\"2017 Ford GoBike System Usage by Duration of Trip\", fontsize=20)\n",
    "plt.xlabel('Duration of Trip (Minutes)')\n",
    "plt.ylabel('Number of Trips');"
   ]
  },
  {
   "cell_type": "code",
   "execution_count": 76,
   "metadata": {},
   "outputs": [
    {
     "data": {
      "text/plain": [
       "count    5.644684\n",
       "mean     1.018671\n",
       "std      0.878516\n",
       "min      0.000000\n",
       "25%      0.778151\n",
       "50%      0.954243\n",
       "75%      1.113943\n",
       "max      1.869232\n",
       "Name: duration_min, dtype: float64"
      ]
     },
     "execution_count": 76,
     "metadata": {},
     "output_type": "execute_result"
    }
   ],
   "source": [
    "#Descriptive statistics for duration_min on a logarithmic scale\n",
    "np.log10(df_clean['duration_min'].describe())"
   ]
  },
  {
   "cell_type": "code",
   "execution_count": 143,
   "metadata": {},
   "outputs": [
    {
     "data": {
      "image/png": "[encoded data removed]",
      "text/plain": [
       "<Figure size 432x288 with 1 Axes>"
      ]
     },
     "metadata": {
      "needs_background": "light"
     },
     "output_type": "display_data"
    }
   ],
   "source": [
    "#Histogram of logarithmic transformation of usage by duration_min \n",
    "bins=10**np.arange(0, 2 + 0.1, 0.1)\n",
    "ticks=[1, 2, 5, 10, 20, 50, 100]\n",
    "labels =['{}'.format(v) for v in ticks]\n",
    "plt.hist(data=df_clean, x='duration_min', bins=bins);\n",
    "plt.xscale('log');\n",
    "plt.xticks(ticks, labels);\n",
    "plt.title(\"2017 Ford GoBike System Usage by Duration of Trip (Logarithmic Tranformation)\", fontsize=18)\n",
    "plt.xlabel('Duration of Trip (Minutes)')\n",
    "plt.ylabel('Number of Trips');"
   ]
  },
  {
   "cell_type": "markdown",
   "metadata": {},
   "source": [
    "###### Univariate Observation 7:\n",
    "Overall, it appears that the bike-share system is used for short durations of time. The first histogram showed usage decreased substantially after ten minutes. As a result of the dramatic drop off, a second histogram was plotted on the logarithmic scale. This analysis showed longest duration of use at 10 minutes or shortly thereafter. The logarithmic transformation makes it easier to see and shows next highest usage at just about 4 minutes. Next, miles traveled by trip will be evaluated."
   ]
  },
  {
   "cell_type": "code",
   "execution_count": 72,
   "metadata": {},
   "outputs": [
    {
     "data": {
      "text/plain": [
       "count    441249.000000\n",
       "mean          0.976568\n",
       "std           0.561434\n",
       "min           0.000000\n",
       "25%           0.570000\n",
       "50%           0.870000\n",
       "75%           1.280000\n",
       "max           3.000000\n",
       "Name: dist_miles, dtype: float64"
      ]
     },
     "execution_count": 72,
     "metadata": {},
     "output_type": "execute_result"
    }
   ],
   "source": [
    "#Descriptive statistics for miles traveled\n",
    "df_clean.dist_miles.describe()"
   ]
  },
  {
   "cell_type": "code",
   "execution_count": 73,
   "metadata": {},
   "outputs": [
    {
     "data": {
      "image/png": "[encoded data removed]",
      "text/plain": [
       "<Figure size 432x288 with 1 Axes>"
      ]
     },
     "metadata": {
      "needs_background": "light"
     },
     "output_type": "display_data"
    }
   ],
   "source": [
    "#Histogram of usage in relation to miles traveled\n",
    "bin_edges = np.arange(0, df_clean['dist_miles'].max()+1, .25)\n",
    "plt.hist(data = df_clean, x = 'dist_miles', bins = bin_edges);\n",
    "plt.title(\"2017 Ford GoBike System Usage by Distance Traveled\", fontsize=20)\n",
    "plt.xlabel('Distance (Miles)')\n",
    "plt.ylabel('Number of Trips');"
   ]
  },
  {
   "cell_type": "markdown",
   "metadata": {},
   "source": [
    "###### Univariate Observation 8:\n",
    "Analysis of trip duration in minutes showed that the bike-share system was used for short periods of time, which would suggest shorter distances traveled. This is confirmed in the above plot. Trip distance in relation to usage show that users of the bike share system often travel between a half mile and one mile. "
   ]
  },
  {
   "cell_type": "code",
   "execution_count": 155,
   "metadata": {},
   "outputs": [
    {
     "data": {
      "text/plain": [
       "30     11684\n",
       "67     11359\n",
       "15     11056\n",
       "58     10821\n",
       "81      9952\n",
       "21      9920\n",
       "22      9430\n",
       "6       9073\n",
       "16      8203\n",
       "3       7726\n",
       "17      6824\n",
       "5       6579\n",
       "90      5961\n",
       "50      5935\n",
       "66      5580\n",
       "48      5372\n",
       "23      5271\n",
       "25      5235\n",
       "182     5133\n",
       "59      4388\n",
       "24      4373\n",
       "44      4294\n",
       "37      4276\n",
       "20      4178\n",
       "19      4056\n",
       "324     3986\n",
       "45      3924\n",
       "27      3913\n",
       "28      3742\n",
       "9       3664\n",
       "       ...  \n",
       "219       63\n",
       "231       63\n",
       "216       61\n",
       "234       60\n",
       "288       56\n",
       "265       54\n",
       "269       53\n",
       "283       51\n",
       "338       51\n",
       "254       44\n",
       "206       37\n",
       "337       34\n",
       "131       29\n",
       "224       26\n",
       "226       23\n",
       "229       21\n",
       "237       21\n",
       "263       20\n",
       "301       18\n",
       "258       17\n",
       "228       13\n",
       "299       13\n",
       "267       11\n",
       "300       10\n",
       "293        9\n",
       "294        7\n",
       "340        3\n",
       "292        3\n",
       "339        2\n",
       "268        1\n",
       "Name: start_station_id, Length: 272, dtype: int64"
      ]
     },
     "execution_count": 155,
     "metadata": {},
     "output_type": "execute_result"
    }
   ],
   "source": [
    "#Counts of usage by start_station_id\n",
    "df_clean.start_station_id.value_counts()"
   ]
  },
  {
   "cell_type": "code",
   "execution_count": 210,
   "metadata": {},
   "outputs": [],
   "source": [
    "df_clean.start_station_name = df_clean.start_station_name.astype('category')\n",
    "df_clean.start_station_id = df_clean.start_station_id.astype('category')"
   ]
  },
  {
   "cell_type": "code",
   "execution_count": 211,
   "metadata": {},
   "outputs": [
    {
     "data": {
      "text/plain": [
       "start_station_id      category\n",
       "start_station_name    category\n",
       "end_station_id          object\n",
       "end_station_name        object\n",
       "bike_id                 object\n",
       "user_type             category\n",
       "member_gender         category\n",
       "member_age               int64\n",
       "duration_min             int64\n",
       "start_month           category\n",
       "start_weekday         category\n",
       "start_hour               int64\n",
       "end_hour                 int64\n",
       "dist_miles             float64\n",
       "dtype: object"
      ]
     },
     "execution_count": 211,
     "metadata": {},
     "output_type": "execute_result"
    }
   ],
   "source": [
    "df_clean.dtypes"
   ]
  },
  {
   "cell_type": "code",
   "execution_count": 212,
   "metadata": {},
   "outputs": [],
   "source": [
    "df_clean['start_station_name'] = df_clean['start_station_name'].str.replace(r\"\\(.*\\)\",\"\")"
   ]
  },
  {
   "cell_type": "code",
   "execution_count": 213,
   "metadata": {},
   "outputs": [],
   "source": [
    "df_clean['start_station_name'] = df_clean['start_station_name'].str.replace(r\"\\s*\\([^()]*\\)\",\"\").str.strip()"
   ]
  },
  {
   "cell_type": "code",
   "execution_count": 214,
   "metadata": {},
   "outputs": [
    {
     "data": {
      "text/html": [
       "<div>\n",
       "<style scoped>\n",
       "    .dataframe tbody tr th:only-of-type {\n",
       "        vertical-align: middle;\n",
       "    }\n",
       "\n",
       "    .dataframe tbody tr th {\n",
       "        vertical-align: top;\n",
       "    }\n",
       "\n",
       "    .dataframe thead th {\n",
       "        text-align: right;\n",
       "    }\n",
       "</style>\n",
       "<table border=\"1\" class=\"dataframe\">\n",
       "  <thead>\n",
       "    <tr style=\"text-align: right;\">\n",
       "      <th></th>\n",
       "      <th>start_station_id</th>\n",
       "      <th>start_station_name</th>\n",
       "      <th>end_station_id</th>\n",
       "      <th>end_station_name</th>\n",
       "      <th>bike_id</th>\n",
       "      <th>user_type</th>\n",
       "      <th>member_gender</th>\n",
       "      <th>member_age</th>\n",
       "      <th>duration_min</th>\n",
       "      <th>start_month</th>\n",
       "      <th>start_weekday</th>\n",
       "      <th>start_hour</th>\n",
       "      <th>end_hour</th>\n",
       "      <th>dist_miles</th>\n",
       "    </tr>\n",
       "  </thead>\n",
       "  <tbody>\n",
       "    <tr>\n",
       "      <th>12</th>\n",
       "      <td>67</td>\n",
       "      <td>San Francisco Caltrain Station 2</td>\n",
       "      <td>24</td>\n",
       "      <td>Spear St at Folsom St</td>\n",
       "      <td>2311</td>\n",
       "      <td>Subscriber</td>\n",
       "      <td>Male</td>\n",
       "      <td>27</td>\n",
       "      <td>36</td>\n",
       "      <td>December</td>\n",
       "      <td>Sunday</td>\n",
       "      <td>23</td>\n",
       "      <td>0</td>\n",
       "      <td>0.94</td>\n",
       "    </tr>\n",
       "    <tr>\n",
       "      <th>13</th>\n",
       "      <td>67</td>\n",
       "      <td>San Francisco Caltrain Station 2</td>\n",
       "      <td>24</td>\n",
       "      <td>Spear St at Folsom St</td>\n",
       "      <td>3717</td>\n",
       "      <td>Subscriber</td>\n",
       "      <td>Male</td>\n",
       "      <td>27</td>\n",
       "      <td>36</td>\n",
       "      <td>December</td>\n",
       "      <td>Sunday</td>\n",
       "      <td>23</td>\n",
       "      <td>0</td>\n",
       "      <td>0.94</td>\n",
       "    </tr>\n",
       "    <tr>\n",
       "      <th>15</th>\n",
       "      <td>14</td>\n",
       "      <td>Clay St at Battery St</td>\n",
       "      <td>27</td>\n",
       "      <td>Beale St at Harrison St</td>\n",
       "      <td>558</td>\n",
       "      <td>Subscriber</td>\n",
       "      <td>Female</td>\n",
       "      <td>37</td>\n",
       "      <td>25</td>\n",
       "      <td>December</td>\n",
       "      <td>Sunday</td>\n",
       "      <td>23</td>\n",
       "      <td>0</td>\n",
       "      <td>0.65</td>\n",
       "    </tr>\n",
       "    <tr>\n",
       "      <th>16</th>\n",
       "      <td>14</td>\n",
       "      <td>Clay St at Battery St</td>\n",
       "      <td>27</td>\n",
       "      <td>Beale St at Harrison St</td>\n",
       "      <td>3646</td>\n",
       "      <td>Subscriber</td>\n",
       "      <td>Male</td>\n",
       "      <td>38</td>\n",
       "      <td>24</td>\n",
       "      <td>December</td>\n",
       "      <td>Sunday</td>\n",
       "      <td>23</td>\n",
       "      <td>0</td>\n",
       "      <td>0.65</td>\n",
       "    </tr>\n",
       "    <tr>\n",
       "      <th>18</th>\n",
       "      <td>78</td>\n",
       "      <td>Folsom St at 9th St</td>\n",
       "      <td>15</td>\n",
       "      <td>San Francisco Ferry Building (Harry Bridges Pl...</td>\n",
       "      <td>3114</td>\n",
       "      <td>Subscriber</td>\n",
       "      <td>Other</td>\n",
       "      <td>29</td>\n",
       "      <td>25</td>\n",
       "      <td>December</td>\n",
       "      <td>Sunday</td>\n",
       "      <td>23</td>\n",
       "      <td>0</td>\n",
       "      <td>1.77</td>\n",
       "    </tr>\n",
       "  </tbody>\n",
       "</table>\n",
       "</div>"
      ],
      "text/plain": [
       "   start_station_id                start_station_name end_station_id  \\\n",
       "12               67  San Francisco Caltrain Station 2             24   \n",
       "13               67  San Francisco Caltrain Station 2             24   \n",
       "15               14             Clay St at Battery St             27   \n",
       "16               14             Clay St at Battery St             27   \n",
       "18               78               Folsom St at 9th St             15   \n",
       "\n",
       "                                     end_station_name bike_id   user_type  \\\n",
       "12                              Spear St at Folsom St    2311  Subscriber   \n",
       "13                              Spear St at Folsom St    3717  Subscriber   \n",
       "15                            Beale St at Harrison St     558  Subscriber   \n",
       "16                            Beale St at Harrison St    3646  Subscriber   \n",
       "18  San Francisco Ferry Building (Harry Bridges Pl...    3114  Subscriber   \n",
       "\n",
       "   member_gender  member_age  duration_min start_month start_weekday  \\\n",
       "12          Male          27            36    December        Sunday   \n",
       "13          Male          27            36    December        Sunday   \n",
       "15        Female          37            25    December        Sunday   \n",
       "16          Male          38            24    December        Sunday   \n",
       "18         Other          29            25    December        Sunday   \n",
       "\n",
       "    start_hour  end_hour  dist_miles  \n",
       "12          23         0        0.94  \n",
       "13          23         0        0.94  \n",
       "15          23         0        0.65  \n",
       "16          23         0        0.65  \n",
       "18          23         0        1.77  "
      ]
     },
     "execution_count": 214,
     "metadata": {},
     "output_type": "execute_result"
    }
   ],
   "source": [
    "df_clean.head()"
   ]
  },
  {
   "cell_type": "code",
   "execution_count": 221,
   "metadata": {},
   "outputs": [
    {
     "data": {
      "text/plain": [
       "start_station_id  start_station_name              \n",
       "30                San Francisco Caltrain              11684\n",
       "67                San Francisco Caltrain Station 2    11359\n",
       "15                San Francisco Ferry Building        11056\n",
       "58                Market St at 10th St                10821\n",
       "81                Berry St at 4th St                   9952\n",
       "21                Montgomery St BART Station           9920\n",
       "22                Howard St at Beale St                9430\n",
       "6                 The Embarcadero at Sansome St        9073\n",
       "16                Steuart St at Market St              8203\n",
       "3                 Powell St BART Station               7726\n",
       "Name: start_station_name, dtype: int64"
      ]
     },
     "execution_count": 221,
     "metadata": {},
     "output_type": "execute_result"
    }
   ],
   "source": [
    "top_10_start_stations = df_clean.groupby(['start_station_id']).start_station_name.value_counts().nlargest(10)\n",
    "top_10_start_stations"
   ]
  },
  {
   "cell_type": "markdown",
   "metadata": {},
   "source": [
    "### Discuss the distribution(s) of your variable(s) of interest. Were there any unusual points? Did you need to perform any transformations?\n",
    "> The distributions of the variables of interest identified most of the Ford GoBike users were an average age of 36, male, a subscriber, used the bike-share system during the week and the highest usage occurred before and after workday commuting hours of 9 to 5. The month with the highest usage was October and the bike-share system was most often used for trips short in duration and miles. Due to the cleaning efforts performed, there were no unusual points. One logarithmic transformation was performed on duration of trip in minutes. This showed that highest usage was for trips 10 minutes long. However, second highest usage occurred at 4 minutes. This transformation made the data points much easier to see."
   ]
  },
  {
   "cell_type": "markdown",
   "metadata": {},
   "source": [
    "### Of the features you investigated, were there any unusual distributions? Did you perform any operations on the data to tidy, adjust, or change the form of the data? If so, why did you do this?\n",
    "> There weren't any unusual distributions and no further operations were performed on the data to tidy, adjust or change the form of the data."
   ]
  },
  {
   "cell_type": "markdown",
   "metadata": {},
   "source": [
    "<a id = 'bivariate'></a>\n",
    "## Bivariate Exploration\n",
    "\n",
    "> In this section, relationships amongst variables will be investigated in relation to user type."
   ]
  },
  {
   "cell_type": "code",
   "execution_count": 239,
   "metadata": {},
   "outputs": [
    {
     "data": {
      "image/png": "[encoded data removed]",
      "text/plain": [
       "<Figure size 432x288 with 1 Axes>"
      ]
     },
     "metadata": {},
     "output_type": "display_data"
    }
   ],
   "source": [
    "#Pie chart of usage by gender\n",
    "sorted_counts2 = df_clean['user_type'].value_counts()\n",
    "plt.pie(sorted_counts2, labels = sorted_counts2.index, startangle = 90,\n",
    "        counterclock = False, autopct='%.2f');\n",
    "plt.axis('square');\n",
    "plt.title(\"2017 Ford GoBike System Usage by User Type\", fontsize=15)\n",
    "plt.show();"
   ]
  },
  {
   "cell_type": "raw",
   "metadata": {},
   "source": [
    "The above pie chart shows that 89.75% of the users of Ford's GoBike system were Subscribers, whereas only 10.25% were Customers. All comparisons must be made cautiously, since there is "
   ]
  },
  {
   "cell_type": "code",
   "execution_count": 247,
   "metadata": {},
   "outputs": [
    {
     "data": {
      "image/png": "[encoded data removed]",
      "text/plain": [
       "<Figure size 1440x360 with 2 Axes>"
      ]
     },
     "metadata": {
      "needs_background": "light"
     },
     "output_type": "display_data"
    }
   ],
   "source": [
    "#User type explored by by age\n",
    "graph = sb.catplot(data = df_clean, x = 'member_age', col='user_type', kind='count', sharey = False, color = base_color, height=5, aspect=2)\n",
    "\n",
    "graph.set_axis_labels('Age', 'Number of Bike Trips')\n",
    "graph.set_titles('{col_name}')\n",
    "\n",
    "graph.fig.suptitle('2017 Ford GoBike System User Type by Age', y=1.05, fontsize=16, fontweight='bold');\n",
    "graph.set_xticklabels(rotation=75);"
   ]
  },
  {
   "cell_type": "markdown",
   "metadata": {},
   "source": [
    "###### Bivariate Observation 1:\n",
    "Customers that are 30 years old have the highest usage rates of Ford's GoBike system, whereas subscribers that are 32 years old have the highest usage rates. Overall, for both subscribers and customers, usage rates decline around age 37."
   ]
  },
  {
   "cell_type": "code",
   "execution_count": null,
   "metadata": {},
   "outputs": [],
   "source": []
  },
  {
   "cell_type": "markdown",
   "metadata": {},
   "source": [
    "### Talk about some of the relationships you observed in this part of the investigation. How did the feature(s) of interest vary with other features in the dataset?\n",
    "\n",
    "> Your answer here!\n",
    "\n",
    "### Did you observe any interesting relationships between the other features (not the main feature(s) of interest)?\n",
    "\n",
    "> Your answer here!"
   ]
  },
  {
   "cell_type": "markdown",
   "metadata": {},
   "source": [
    "<a id = 'multivariate'></a>\n",
    "## Multivariate Exploration\n",
    "\n",
    "> Create plots of three or more variables to investigate your data even\n",
    "further. Make sure that your investigations are justified, and follow from\n",
    "your work in the previous sections."
   ]
  },
  {
   "cell_type": "code",
   "execution_count": 244,
   "metadata": {},
   "outputs": [
    {
     "data": {
      "image/png": "[encoded data removed]",
      "text/plain": [
       "<Figure size 432x288 with 2 Axes>"
      ]
     },
     "metadata": {
      "needs_background": "light"
     },
     "output_type": "display_data"
    }
   ],
   "source": [
    "sb.heatmap(df_clean.corr(), annot = True, fmt = '.2f', cmap = 'vlag_r', center = 0);"
   ]
  },
  {
   "cell_type": "markdown",
   "metadata": {},
   "source": [
    "### Talk about some of the relationships you observed in this part of the investigation. Were there features that strengthened each other in terms of looking at your feature(s) of interest?\n",
    "\n",
    "> Your answer here!\n",
    "\n",
    "### Were there any interesting or surprising interactions between features?\n",
    "\n",
    "> Your answer here!"
   ]
  },
  {
   "cell_type": "markdown",
   "metadata": {},
   "source": [
    "> At the end of your report, make sure that you export the notebook as an\n",
    "html file from the `File > Download as... > HTML` menu. Make sure you keep\n",
    "track of where the exported file goes, so you can put it in the same folder\n",
    "as this notebook for project submission. Also, make sure you remove all of\n",
    "the quote-formatted guide notes like this one before you finish your report!"
   ]
  },
  {
   "cell_type": "markdown",
   "metadata": {},
   "source": [
    "<a id = 'references'></a>\n",
    "### References\n",
    "\n",
    "- https://stackoverflow.com/questions/19412462/getting-distance-between-two-points-based-on-latitude-longitude/43211266#43211266\n",
    "- https://stackoverflow.com/questions/25129144/pandas-return-hour-from-datetime-column-directly\n",
    "- https://stackoverflow.com/questions/20457038/how-to-round-to-2-decimals-with-python\n",
    "- https://stackoverflow.com/questions/6170246/how-do-i-use-matplotlib-autopct\n",
    "- https://stackoverflow.com/questions/35364601/group-by-and-find-top-n-value-counts-pandas\n",
    "- https://stackoverflow.com/questions/20894525/how-to-remove-parentheses-and-all-data-within-using-pandas-python/20895818"
   ]
  },
  {
   "cell_type": "code",
   "execution_count": null,
   "metadata": {},
   "outputs": [],
   "source": []
  }
 ],
 "metadata": {
  "kernelspec": {
   "display_name": "Python 3",
   "language": "python",
   "name": "python3"
  },
  "language_info": {
   "codemirror_mode": {
    "name": "ipython",
    "version": 3
   },
   "file_extension": ".py",
   "mimetype": "text/x-python",
   "name": "python",
   "nbconvert_exporter": "python",
   "pygments_lexer": "ipython3",
   "version": "3.7.3"
  }
 },
 "nbformat": 4,
 "nbformat_minor": 2
}
